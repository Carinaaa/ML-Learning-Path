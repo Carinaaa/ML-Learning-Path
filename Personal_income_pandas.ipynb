{
  "nbformat": 4,
  "nbformat_minor": 0,
  "metadata": {
    "colab": {
      "provenance": [],
      "authorship_tag": "ABX9TyM/htjc0e3HF1FJWggK9yhh",
      "include_colab_link": true
    },
    "kernelspec": {
      "name": "python3",
      "display_name": "Python 3"
    },
    "language_info": {
      "name": "python"
    }
  },
  "cells": [
    {
      "cell_type": "markdown",
      "metadata": {
        "id": "view-in-github",
        "colab_type": "text"
      },
      "source": [
        "<a href=\"https://colab.research.google.com/github/Carinaaa/ML-Learning-Path/blob/main/Personal_income_pandas.ipynb\" target=\"_parent\"><img src=\"https://colab.research.google.com/assets/colab-badge.svg\" alt=\"Open In Colab\"/></a>"
      ]
    },
    {
      "cell_type": "markdown",
      "source": [
        "## Download data\n",
        "1. go to website https://www.bea.gov/itable/ and choose some data to work with\n",
        "2. Uploaded it to github and import it to the notebook\n"
      ],
      "metadata": {
        "id": "uhDZXKxDLrCb"
      }
    },
    {
      "cell_type": "code",
      "source": [
        "from os import mkdir\n",
        "import requests\n",
        "\n",
        "url = \"https://raw.githubusercontent.com/Carinaaa/ML-Learning-Path/refs/heads/intro-pandas/personal-income-summary.csv\"\n",
        "response = requests.get(url)\n",
        "\n",
        "if response.status_code == 200:\n",
        "  try:\n",
        "    mkdir(\"data\")\n",
        "    print(\"Data folder created.\")\n",
        "  except FileExistsError:\n",
        "    print(\"Data folder already there... proceeding in creating the file.\")\n",
        "\n",
        "  with open(\"data/personal-income-summary.csv\", \"wb\") as f:\n",
        "    f.write(response.content)\n",
        "    f.close()\n",
        "    print(\"File written.\")\n",
        "else:\n",
        "  print(\"Error downloading the file...\")"
      ],
      "metadata": {
        "id": "nHpQyz9wLlsI"
      },
      "execution_count": null,
      "outputs": []
    },
    {
      "cell_type": "markdown",
      "source": [
        "## Create a dataframe from csv"
      ],
      "metadata": {
        "id": "g-HKuwL6M_ym"
      }
    },
    {
      "cell_type": "code",
      "source": [
        "# Looking in the csv, I noticed that the first 3 rows are the title and subtitle,\n",
        "# Let's remove those\n",
        "\n",
        "import pandas as pd\n",
        "\n",
        "personal_income = pd.read_csv(\"data/personal-income-summary.csv\", skiprows=3)\n",
        "personal_income.head()"
      ],
      "metadata": {
        "id": "AIBzFpXKM3-X"
      },
      "execution_count": null,
      "outputs": []
    },
    {
      "cell_type": "code",
      "source": [
        "personal_income.info()"
      ],
      "metadata": {
        "id": "qrjsOgNxRmiy"
      },
      "execution_count": null,
      "outputs": []
    },
    {
      "cell_type": "markdown",
      "source": [
        "## Manipulating data"
      ],
      "metadata": {
        "id": "SOO5f0guU0fV"
      }
    },
    {
      "cell_type": "code",
      "source": [
        "# Remove them the nan values\n",
        "personal_income.dropna(inplace=True)\n",
        "personal_income.memory_usage(index=True, deep=True)"
      ],
      "metadata": {
        "id": "GKUQJYtNXLVX"
      },
      "execution_count": null,
      "outputs": []
    },
    {
      "cell_type": "code",
      "source": [
        "# Let's add a new column with averaging the personal income for the quaters\n",
        "personal_income[\"2024 Q1:Q4\"] = personal_income[['2024:Q1','2024:Q2','2024:Q3','2024:Q4']].mean(axis=1)\n",
        "personal_income[\"2024 Q1:Q4\"] = personal_income[\"2024 Q1:Q4\"].apply(lambda x: f\"{float(x):,}\")\n",
        "personal_income.head()"
      ],
      "metadata": {
        "id": "twgpvtfKPNrS"
      },
      "execution_count": null,
      "outputs": []
    },
    {
      "cell_type": "code",
      "source": [
        "personal_income.describe()"
      ],
      "metadata": {
        "id": "7RDr8HtVXiLw"
      },
      "execution_count": null,
      "outputs": []
    },
    {
      "cell_type": "code",
      "source": [
        "import matplotlib.pyplot as plt\n",
        "\n",
        "personal_income[\"2024 Q1:Q4\"] = personal_income[\"2024 Q1:Q4\"].str.replace(\"[\\,\\.]\",'',regex=True).astype(float).apply(lambda x: x//10)\n",
        "personal_income[\"2024 Q1:Q4\"].plot()"
      ],
      "metadata": {
        "id": "v28vSNfzTg2A"
      },
      "execution_count": null,
      "outputs": []
    },
    {
      "cell_type": "code",
      "source": [
        "personal_income[\"2024 Q1:Q4\"].hist()"
      ],
      "metadata": {
        "id": "A2yX2NDmUkGs"
      },
      "execution_count": null,
      "outputs": []
    }
  ]
}