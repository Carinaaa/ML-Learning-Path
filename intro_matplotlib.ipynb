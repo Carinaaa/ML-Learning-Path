{
  "nbformat": 4,
  "nbformat_minor": 0,
  "metadata": {
    "colab": {
      "provenance": [],
      "authorship_tag": "ABX9TyPaFjMvoHfa994e97Um72bW",
      "include_colab_link": true
    },
    "kernelspec": {
      "name": "python3",
      "display_name": "Python 3"
    },
    "language_info": {
      "name": "python"
    }
  },
  "cells": [
    {
      "cell_type": "markdown",
      "metadata": {
        "id": "view-in-github",
        "colab_type": "text"
      },
      "source": [
        "<a href=\"https://colab.research.google.com/github/Carinaaa/ML-Learning-Path/blob/intro-matplotlib/intro_matplotlib.ipynb\" target=\"_parent\"><img src=\"https://colab.research.google.com/assets/colab-badge.svg\" alt=\"Open In Colab\"/></a>"
      ]
    },
    {
      "cell_type": "code",
      "execution_count": null,
      "metadata": {
        "id": "IHcTgzAfytmG"
      },
      "outputs": [],
      "source": [
        "%matplotlib inline\n",
        "import matplotlib.pyplot as plt\n",
        "import pandas as pd\n",
        "import numpy as np"
      ]
    },
    {
      "cell_type": "code",
      "source": [
        "plt.plot([1,2,3,4],[11,22,33,44]);"
      ],
      "metadata": {
        "id": "9ry2kP6E01VU"
      },
      "execution_count": null,
      "outputs": []
    },
    {
      "cell_type": "markdown",
      "source": [
        "Documentation: https://matplotlib.org/stable/users/index.html\n",
        "\n",
        "There are 2 methods: pyplot API and object-oriented API."
      ],
      "metadata": {
        "id": "Cw-KSW4p2SF-"
      }
    },
    {
      "cell_type": "code",
      "source": [
        "# 1st method\n",
        "fig = plt.figure()\n",
        "ax = fig.add_subplot()\n",
        "fig.show()"
      ],
      "metadata": {
        "id": "dV8698Xl1Kiw"
      },
      "execution_count": null,
      "outputs": []
    },
    {
      "cell_type": "code",
      "source": [
        "# 2nd method\n",
        "fig = plt.figure()\n",
        "ax = fig.add_axes([1,1,1,1])\n",
        "ax.plot([1,2,3,4],[11,22,33,44])\n",
        "fig.show()"
      ],
      "metadata": {
        "id": "AEg18niv27bC"
      },
      "execution_count": null,
      "outputs": []
    },
    {
      "cell_type": "code",
      "source": [
        "# 3rd method (recommended)\n",
        "fig, ax = plt.subplots()\n",
        "ax.plot([1,2,3,4],[50,100,200,250])\n",
        "fig.show()\n",
        "type(fig), type(ax)"
      ],
      "metadata": {
        "id": "sI-MSn-a3e82"
      },
      "execution_count": null,
      "outputs": []
    },
    {
      "cell_type": "markdown",
      "source": [
        "## Matplotlib example workflow"
      ],
      "metadata": {
        "id": "LHdCMfVQLm18"
      }
    },
    {
      "cell_type": "code",
      "source": [
        "# 0. import matplotlib and get it ready for plotting in notebook\n",
        "%matplotlib inline\n",
        "import matplotlib.pyplot as plt\n",
        "\n",
        "# 1. Prepare data\n",
        "x = [1,2,3,4]\n",
        "y = [22,33,44,55]\n",
        "\n",
        "# 2. Setup ploe\n",
        "fig, ax = plt.subplots(figsize = (10,10)) # width and height\n",
        "\n",
        "# 3. Plot data\n",
        "ax.plot(x,y)\n",
        "\n",
        "# 4. Customize plot\n",
        "ax.set(title=\"Simple plot\",\n",
        "       xlabel = \"x-axis\",\n",
        "       ylabel = \"y-axis\")\n",
        "\n",
        "# 5. Save and show\n",
        "fig.savefig(\"simple_plot.png\")\n",
        "fig.show()"
      ],
      "metadata": {
        "id": "u77xu5ox35JU"
      },
      "execution_count": null,
      "outputs": []
    },
    {
      "cell_type": "markdown",
      "source": [
        "## Making figures with NumPy arrays\n",
        "\n",
        "We want:\n",
        "* Line plot\n",
        "* Scatter plot\n",
        "* Bar plot\n",
        "* Histogram\n",
        "* Subplots"
      ],
      "metadata": {
        "id": "JmYFhUE7OICz"
      }
    },
    {
      "cell_type": "code",
      "source": [
        "# Create some data\n",
        "x = np.linspace(0,10,100) # start, stop, samples\n",
        "x[:10]"
      ],
      "metadata": {
        "id": "q2mG-1GZM9yk"
      },
      "execution_count": null,
      "outputs": []
    },
    {
      "cell_type": "code",
      "source": [
        "# Plot the data and create a line plot\n",
        "fig, ax = plt.subplots()\n",
        "ax.plot(x, x**2)\n",
        "ax.plot(x, x**3)"
      ],
      "metadata": {
        "id": "F3JvuYb2RhVX"
      },
      "execution_count": null,
      "outputs": []
    },
    {
      "cell_type": "code",
      "source": [
        "# Use same data to mek a scatter\n",
        "fig, ax = plt.subplots()\n",
        "ax.scatter(x, x**2)\n",
        "ax.scatter(x, x**3)"
      ],
      "metadata": {
        "id": "s-c2MTlkRoN6"
      },
      "execution_count": null,
      "outputs": []
    },
    {
      "cell_type": "code",
      "source": [
        "# Another scatter\n",
        "fig, ax = plt.subplots()\n",
        "ax.scatter(x, np.sin(x), label = \"sin\")\n",
        "ax.scatter(x, np.cos(x), label = \"cos\")\n",
        "ax.legend()"
      ],
      "metadata": {
        "id": "6-E8H9JRSJSa"
      },
      "execution_count": null,
      "outputs": []
    },
    {
      "cell_type": "code",
      "source": [
        "# Make a plot from dictionary (bar)\n",
        "nut_butter_prices = {\n",
        "    \"Almond\": 10,\n",
        "    \"Peanut\": 8,\n",
        "    \"Cashew\": 12\n",
        "}\n",
        "\n",
        "fig, ax = plt.subplots()\n",
        "ax.bar(nut_butter_prices.keys(), nut_butter_prices.values())\n",
        "ax.set(title=\"Nut Butter Store\",\n",
        "       ylabel=\"Price ($)\");"
      ],
      "metadata": {
        "id": "bMzeh_jHSgMq"
      },
      "execution_count": null,
      "outputs": []
    },
    {
      "cell_type": "code",
      "source": [
        "fig, ax = plt.subplots()\n",
        "ax.barh(list(nut_butter_prices.keys()), list(nut_butter_prices.values()));"
      ],
      "metadata": {
        "id": "hmBupZJFSeWL"
      },
      "execution_count": null,
      "outputs": []
    },
    {
      "cell_type": "code",
      "source": [
        "# Make some data\n",
        "x = np.random.randn(1000)\n",
        "y = np.random.randn(1000)\n",
        "# Histogram\n",
        "fig, ax = plt.subplots()\n",
        "ax.hist(x, bins = 10);\n",
        "ax.hist(y, bins = 10);"
      ],
      "metadata": {
        "id": "SCRI39RQTw0e"
      },
      "execution_count": null,
      "outputs": []
    },
    {
      "cell_type": "code",
      "source": [
        "# Subplot option 1\n",
        "fig, ((ax1, ax2), (ax3, ax4)) = plt.subplots(nrows = 2, ncols = 2, figsize = (10,5))\n",
        "ax1.plot(x, x/2);\n",
        "ax2.scatter(np.random.randn(10), np.random.randn(10));\n",
        "ax3.bar(list(nut_butter_prices.keys()), list(nut_butter_prices.values()));\n",
        "ax4.hist(np.random.randn(1000));"
      ],
      "metadata": {
        "id": "8mmggk-iUanC"
      },
      "execution_count": null,
      "outputs": []
    },
    {
      "cell_type": "code",
      "source": [
        "# Subplot option 2\n",
        "fig, ax = plt.subplots(nrows = 2, ncols = 2, figsize = (10,5))\n",
        "\n",
        "# Plot to each different index\n",
        "ax[0,0].plot(x, x/2);\n",
        "ax[0,1].scatter(np.random.randn(10), np.random.randn(10));\n",
        "ax[1,0].bar(list(nut_butter_prices.keys()), list(nut_butter_prices.values()));\n",
        "ax[1,1].hist(np.random.randn(1000));"
      ],
      "metadata": {
        "id": "GPBXOVhHUy8u"
      },
      "execution_count": null,
      "outputs": []
    },
    {
      "cell_type": "markdown",
      "source": [
        "## Plotting from pandas DataFrames"
      ],
      "metadata": {
        "id": "PjDack7tXmJx"
      }
    },
    {
      "cell_type": "code",
      "source": [
        "import pandas as pd"
      ],
      "metadata": {
        "id": "84WShh9vV1yz"
      },
      "execution_count": null,
      "outputs": []
    },
    {
      "cell_type": "code",
      "source": [
        "\n",
        "from os import mkdir\n",
        "import requests\n",
        "\n",
        "url = \"https://raw.githubusercontent.com/Carinaaa/ML-Learning-Path/intro-pandas/car-sales.csv\"\n",
        "response = requests.get(url)\n",
        "\n",
        "if response.status_code == 200:\n",
        "    try:\n",
        "      mkdir(\"intro-matplotlib\")\n",
        "    except FileExistsError:\n",
        "      print(\"Directory already exists.\")\n",
        "    with open(\"intro-matplotlib/car-sales.csv\", \"wb\") as f:\n",
        "        f.write(response.content)\n",
        "        f.close()\n",
        "    print(\"File downloaded successfully.\")\n",
        "else:\n",
        "    print(\"Failed to download file. Status code:\", response.status_code)"
      ],
      "metadata": {
        "id": "-4gz_-e0YGrm"
      },
      "execution_count": null,
      "outputs": []
    },
    {
      "cell_type": "code",
      "source": [
        "#  Make a dataframe\n",
        "car_sales = pd.read_csv(\"intro-matplotlib/car-sales.csv\")\n",
        "car_sales"
      ],
      "metadata": {
        "id": "ZT5lwn-_Xt5D"
      },
      "execution_count": null,
      "outputs": []
    },
    {
      "cell_type": "code",
      "source": [
        "ts = pd.Series(np.random.randn(1000),\n",
        "               index=pd.date_range('1/1/2020', periods=1000))\n",
        "ts = ts.cumsum()\n",
        "ts.plot()"
      ],
      "metadata": {
        "id": "_XHEaAorYJhF"
      },
      "execution_count": null,
      "outputs": []
    },
    {
      "cell_type": "code",
      "source": [
        "car_sales"
      ],
      "metadata": {
        "id": "sE5_75Siaf9S"
      },
      "execution_count": null,
      "outputs": []
    },
    {
      "cell_type": "code",
      "source": [
        "car_sales[\"Price\"] = car_sales[\"Price\"].str.replace('[\\$\\,\\.]','', regex=True).astype(int)\n",
        "car_sales"
      ],
      "metadata": {
        "id": "0iv-4RgXjtoh"
      },
      "execution_count": null,
      "outputs": []
    },
    {
      "cell_type": "code",
      "source": [
        "# Remove last 2 zeros\n",
        "car_sales[\"Price\"] = car_sales[\"Price\"].apply(lambda x: x//100)\n",
        "car_sales"
      ],
      "metadata": {
        "id": "iIOYz4CqmJzH"
      },
      "execution_count": null,
      "outputs": []
    },
    {
      "cell_type": "code",
      "source": [
        "car_sales[\"Sale Date\"] = pd.date_range(\"1/1/2020\", periods=len(car_sales))\n",
        "car_sales"
      ],
      "metadata": {
        "id": "eTQFRAhzkEjf"
      },
      "execution_count": null,
      "outputs": []
    },
    {
      "cell_type": "code",
      "source": [
        "car_sales[\"Total Sales\"] = car_sales[\"Price\"].cumsum()\n",
        "car_sales"
      ],
      "metadata": {
        "id": "CKvq8ziHnFwL"
      },
      "execution_count": null,
      "outputs": []
    },
    {
      "cell_type": "code",
      "source": [
        "# Let's plot the total sale\n",
        "car_sales.plot(x=\"Sale Date\", y = \"Total Sales\");"
      ],
      "metadata": {
        "id": "3R3RK0FypjNN"
      },
      "execution_count": null,
      "outputs": []
    },
    {
      "cell_type": "code",
      "source": [
        "car_sales.plot(x=\"Odometer (KM)\", y = \"Price\", kind=\"scatter\");"
      ],
      "metadata": {
        "id": "3CmWX3cjqJJZ"
      },
      "execution_count": null,
      "outputs": []
    },
    {
      "cell_type": "code",
      "source": [
        "car_sales.plot(x=\"Odometer (KM)\", y = \"Price\", kind=\"bar\");"
      ],
      "metadata": {
        "id": "uC55C-LtqhL6"
      },
      "execution_count": null,
      "outputs": []
    },
    {
      "cell_type": "code",
      "source": [
        "# Histograms\n",
        "car_sales[\"Odometer (KM)\"].plot.hist() # .plot(king = \"hist\")\n",
        "# we can see outliners"
      ],
      "metadata": {
        "id": "RdSHC_VZD024"
      },
      "execution_count": null,
      "outputs": []
    },
    {
      "cell_type": "markdown",
      "source": [
        " Bins are intervals that group a range of values from a dataset.\n",
        "\n",
        "They are used to divide the total range of data into smaller, manageable sections."
      ],
      "metadata": {
        "id": "JzqeBXbmFy9e"
      }
    },
    {
      "cell_type": "code",
      "source": [
        "car_sales[\"Odometer (KM)\"].plot.hist(bins = 20) # number of samples"
      ],
      "metadata": {
        "id": "TnyrgzhhE4SV"
      },
      "execution_count": null,
      "outputs": []
    },
    {
      "cell_type": "markdown",
      "source": [
        "# Let's switch the data set"
      ],
      "metadata": {
        "id": "LUJJJZbvGIfa"
      }
    },
    {
      "cell_type": "code",
      "source": [
        "from os import mkdir\n",
        "import requests\n",
        "\n",
        "url = \"https://raw.githubusercontent.com/Carinaaa/ML-Learning-Path/refs/heads/intro-matplotlib/heart-disease.csv\"\n",
        "response = requests.get(url)\n",
        "\n",
        "if response.status_code == 200:\n",
        "    # Save the file to a different name to avoid confusion\n",
        "    try:\n",
        "      mkdir(\"intro-matplotlib\")\n",
        "    except FileExistsError:\n",
        "      print(\"Directory already exists.\")\n",
        "    with open(\"intro-matplotlib/heart-disease.csv\", \"wb\") as f:\n",
        "        f.write(response.content)\n",
        "        f.close()\n",
        "    print(\"File downloaded successfully.\")\n",
        "else:\n",
        "    print(\"Failed to download file. Status code:\", response.status_code)"
      ],
      "metadata": {
        "id": "gsH6I-YEF526"
      },
      "execution_count": null,
      "outputs": []
    },
    {
      "cell_type": "code",
      "source": [
        "heart_disease = pd.read_csv(\"intro-matplotlib/heart-disease.csv\")\n",
        "heart_disease"
      ],
      "metadata": {
        "id": "HhX-rIFTFY2t"
      },
      "execution_count": null,
      "outputs": []
    },
    {
      "cell_type": "code",
      "source": [
        "# create a histogram of age\n",
        "heart_disease[\"age\"].plot.hist(bins=10) # create 10 groups"
      ],
      "metadata": {
        "id": "PQ37tWj9Kbrl"
      },
      "execution_count": null,
      "outputs": []
    },
    {
      "cell_type": "code",
      "source": [
        "3 # create 50 groups\n",
        "heart_disease[\"age\"].plot.hist(bins=50)"
      ],
      "metadata": {
        "id": "WsCo57lMK5HE"
      },
      "execution_count": null,
      "outputs": []
    },
    {
      "cell_type": "code",
      "source": [
        "heart_disease.plot.hist(subplots=True, figsize=(10,30));"
      ],
      "metadata": {
        "id": "yBza2sLbLRcE"
      },
      "execution_count": null,
      "outputs": []
    },
    {
      "cell_type": "code",
      "source": [
        "over_50 = heart_disease[heart_disease['age'] > 50]\n",
        "over_50.head()"
      ],
      "metadata": {
        "id": "f8XHfbMqLwyN"
      },
      "execution_count": null,
      "outputs": []
    },
    {
      "cell_type": "code",
      "source": [
        "over_50.plot(kind='scatter',\n",
        "             x='age',\n",
        "             y='chol',\n",
        "             c='target')"
      ],
      "metadata": {
        "id": "Cn9T0jK2M3HU"
      },
      "execution_count": null,
      "outputs": []
    },
    {
      "cell_type": "code",
      "source": [
        "# OO Methond\n",
        "fix, ax = plt.subplots(figsize=(10,6))\n",
        "over_50.plot(kind='scatter',\n",
        "             x = 'age',\n",
        "             y='chol',\n",
        "             c='target',\n",
        "             ax=ax);\n",
        "ax.set_xlim([45,100])"
      ],
      "metadata": {
        "id": "xPoXf256NX1v"
      },
      "execution_count": null,
      "outputs": []
    },
    {
      "cell_type": "code",
      "source": [
        "# OO methond from scratch\n",
        "fig, ax = plt.subplots(figsize=(10,6))\n",
        "\n",
        "# Plot the data\n",
        "scatter = ax.scatter(x = over_50['age'],\n",
        "                     y=over_50['chol'],\n",
        "                     c=over_50['target']);\n",
        "# Customize\n",
        "ax.set(title=\"Heart Disease and Cholesterol Levels\",\n",
        "       xlabel=\"Age\",\n",
        "       ylabel=\"Cholesterol\");\n",
        "\n",
        "# Legend\n",
        "ax.legend(*scatter.legend_elements(), title=\"Target\");\n",
        "\n",
        "# Add a horizontal line\n",
        "ax.axhline(over_50['chol'].mean(),\n",
        "           linestyle='--');"
      ],
      "metadata": {
        "id": "vti54TBaN3Kc"
      },
      "execution_count": null,
      "outputs": []
    },
    {
      "cell_type": "code",
      "source": [
        "# Subplot of chol, age, thatach\n",
        "fig, (ax0, ax1) = plt.subplots(nrows=2,\n",
        "                              ncols=1,\n",
        "                              figsize=(10,10))\n",
        "# Add data to ax0\n",
        "scatter = ax0.scatter(x=over_50['age'],\n",
        "                      y=over_50['chol'],\n",
        "                      c=over_50['target'])\n",
        "\n",
        "# customize\n",
        "ax0.set(title=\"Heart Disease and Cholesterol\",\n",
        "        xlabel=\"Age\",\n",
        "        ylabel=\"Cholesterol\")\n",
        "\n",
        "# Add legend\n",
        "ax0.legend(*scatter.legend_elements(), title=\"Target\")\n",
        "\n",
        "# Ad a meanline\n",
        "ax0.axhline(over_50['chol'].mean(),\n",
        "            linestyle='--')\n",
        "\n",
        "# Add data to ax1\n",
        "scatter = ax1.scatter(x=over_50[\"age\"],\n",
        "                      y=over_50['thalach'],\n",
        "                      c=over_50['target'])\n",
        "# Customize\n",
        "ax1.set(title=\"Heart Disease and Heart Rate\",\n",
        "        xlabel=\"Age\",\n",
        "        ylabel=\"Heart Rate\")\n",
        "\n",
        "# Add legend\n",
        "ax1.legend(*scatter.legend_elements(), title=\"Target\", labelcolor=[\"red\"])\n",
        "\n",
        "# Add a meanline\n",
        "ax1.axhline(over_50['thalach'].mean(),\n",
        "            linestyle='--')\n",
        "\n",
        "# Add title to the figure\n",
        "fig.suptitle(\"Heart Disease\", fontsize=16, fontweight=\"bold\");\n",
        "\n",
        "# Adjust space between subplots\n",
        "plt.subplots_adjust(hspace=0.5)"
      ],
      "metadata": {
        "id": "zPtLr4NxO5xs"
      },
      "execution_count": null,
      "outputs": []
    },
    {
      "cell_type": "markdown",
      "source": [
        "## Making the plots stylish"
      ],
      "metadata": {
        "id": "U3zKyk6eI_oU"
      }
    },
    {
      "cell_type": "code",
      "source": [
        "plt.style.available"
      ],
      "metadata": {
        "id": "0AQisBp1BGvk"
      },
      "execution_count": null,
      "outputs": []
    },
    {
      "cell_type": "code",
      "source": [
        "car_sales[\"Price\"].plot()"
      ],
      "metadata": {
        "id": "VXW6_1z1JEjy"
      },
      "execution_count": null,
      "outputs": []
    },
    {
      "cell_type": "code",
      "source": [
        "plt.style.use('dark_background')\n",
        "car_sales['Price'].plot()"
      ],
      "metadata": {
        "id": "H3qkrxiWJNaq"
      },
      "execution_count": null,
      "outputs": []
    },
    {
      "cell_type": "code",
      "source": [
        "plt.style.use('ggplot')\n",
        "car_sales['Price'].plot()"
      ],
      "metadata": {
        "id": "hP5zYS3OJeKK"
      },
      "execution_count": null,
      "outputs": []
    },
    {
      "cell_type": "code",
      "source": [
        "car_sales.plot(x = \"Odometer (KM)\", y = \"Price\", kind = \"bar\")"
      ],
      "metadata": {
        "id": "YG6C1hVGJ-Si"
      },
      "execution_count": null,
      "outputs": []
    },
    {
      "cell_type": "code",
      "source": [
        "# Create some data\n",
        "x = np.random.randn(10,4)\n",
        "x.shape, x.ndim, x.size, type(x), x"
      ],
      "metadata": {
        "id": "yS9OTYgTKFgC"
      },
      "execution_count": null,
      "outputs": []
    },
    {
      "cell_type": "code",
      "source": [
        "df = pd.DataFrame(x, columns=['a','b','c','d'])\n",
        "df"
      ],
      "metadata": {
        "id": "0sH4c1OyLrw6"
      },
      "execution_count": null,
      "outputs": []
    },
    {
      "cell_type": "code",
      "source": [
        "ax = df.plot(kind='bar')\n",
        "type(ax)"
      ],
      "metadata": {
        "id": "9Ln8QCYlMD5x"
      },
      "execution_count": null,
      "outputs": []
    },
    {
      "cell_type": "code",
      "source": [
        "# customize\n",
        "ax = df.plot(kind='bar')\n",
        "# Add dome labels and title\n",
        "ax.set(title = \"Random numbers\",\n",
        "       xlabel = \"Row number\",\n",
        "       ylabel = \"Random numbers\")\n",
        "# Make the legend\n",
        "ax.legend().set_visible(True)"
      ],
      "metadata": {
        "id": "ABC6BM0AMSHZ"
      },
      "execution_count": null,
      "outputs": []
    },
    {
      "cell_type": "markdown",
      "source": [
        "## More styles"
      ],
      "metadata": {
        "id": "ULUKSq77NO_R"
      }
    },
    {
      "cell_type": "code",
      "source": [
        "plt.style.available"
      ],
      "metadata": {
        "id": "NDh4F-CwMy55"
      },
      "execution_count": null,
      "outputs": []
    },
    {
      "cell_type": "code",
      "source": [
        "plt.style.use('seaborn-v0_8-whitegrid')\n",
        "# OO Method\n",
        "fig, ax = plt.subplots(figsize=(10,5))\n",
        "# Add data\n",
        "scatter = ax.scatter(x=over_50['age'],\n",
        "                     y=over_50['chol'],\n",
        "                     c=over_50['target'],\n",
        "                     cmap='winter') # this changes color scheme\n",
        "# Customize\n",
        "ax.set(title=\"HR Disease\",\n",
        "       xlabel=\"age\",\n",
        "       ylabel='chol')\n",
        "\n",
        "# add legend\n",
        "ax.legend(*scatter.legend_elements(), title=\"Target\")\n",
        "\n",
        "# Add a meanline\n",
        "ax.axhline(over_50['chol'].mean(),\n",
        "           linestyle='--',\n",
        "           color='red')"
      ],
      "metadata": {
        "id": "3S5uJkqvNOtp"
      },
      "execution_count": null,
      "outputs": []
    },
    {
      "cell_type": "code",
      "source": [
        "# Customizing\n",
        "fig, (ax0, ax1) = plt.subplots(nrows = 2,\n",
        "                               ncols=1,\n",
        "    figsize=(20,10))\n",
        "\n",
        "# Add data to axs\n",
        "scatter = ax0.scatter(x=over_50['age'],\n",
        "                      y=over_50['chol'],\n",
        "                      c=over_50['target'],\n",
        "        cmap='summer')\n",
        "# customize\n",
        "ax0.set(title=\"Heart Disease and Cholesterol\",\n",
        "        xlabel=\"Age\",\n",
        "        ylabel=\"Cholesterol\")\n",
        "\n",
        "ax0.set_xlim([45,80])\n",
        "\n",
        "# Add legend\n",
        "ax0.legend(*scatter.legend_elements(), title=\"Target\")\n",
        "\n",
        "# Add a meanline\n",
        "ax0.axhline(over_50['chol'].mean(),\n",
        "            linestyle='--',\n",
        "            color=\"red\")\n",
        "\n",
        "# Add data to ax1\n",
        "bar = ax1.bar(x=over_50['age'],\n",
        "              height=over_50['thalach'])\n",
        "# Customize\n",
        "ax1.set(title=\"Heart Disease and Heart Rate\",\n",
        "        xlabel=\"Age\",\n",
        "        ylabel=\"Heart Rate\")\n",
        "\n",
        "ax1.set_xlim([45,80])\n",
        "ax1.set_ylim([60,200])\n",
        "\n",
        "\n",
        "# Add a meanline\n",
        "ax1.axhline(over_50['thalach'].mean(),\n",
        "            linestyle='--',\n",
        "            color=\"black\")\n",
        "\n",
        "# Add title to the figure\n",
        "fig.suptitle(\"Heart Disease\", fontsize=16, fontweight=\"bold\");\n",
        "\n",
        "# Adjust space between subplots\n",
        "plt.subplots_adjust(hspace=0.5)\n"
      ],
      "metadata": {
        "id": "oqy5aiToOR_B"
      },
      "execution_count": null,
      "outputs": []
    },
    {
      "cell_type": "code",
      "source": [],
      "metadata": {
        "id": "zAh3WTR3P0G5"
      },
      "execution_count": null,
      "outputs": []
    }
  ]
}