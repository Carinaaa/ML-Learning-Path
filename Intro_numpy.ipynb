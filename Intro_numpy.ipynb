{
  "nbformat": 4,
  "nbformat_minor": 0,
  "metadata": {
    "colab": {
      "provenance": [],
      "authorship_tag": "ABX9TyOax67SkrhBMUjrEfSDSCUL",
      "include_colab_link": true
    },
    "kernelspec": {
      "name": "python3",
      "display_name": "Python 3"
    },
    "language_info": {
      "name": "python"
    }
  },
  "cells": [
    {
      "cell_type": "markdown",
      "metadata": {
        "id": "view-in-github",
        "colab_type": "text"
      },
      "source": [
        "<a href=\"https://colab.research.google.com/github/Carinaaa/ML-Learning-Path/blob/intro-numpy/Intro_numpy.ipynb\" target=\"_parent\"><img src=\"https://colab.research.google.com/assets/colab-badge.svg\" alt=\"Open In Colab\"/></a>"
      ]
    },
    {
      "cell_type": "markdown",
      "source": [
        "Section 7 - NumPy"
      ],
      "metadata": {
        "id": "T0i_1qWwxdGs"
      }
    },
    {
      "cell_type": "code",
      "execution_count": null,
      "metadata": {
        "id": "wXZDAulhv5jH"
      },
      "outputs": [],
      "source": [
        "import numpy as np"
      ]
    },
    {
      "cell_type": "markdown",
      "source": [
        "## DataTypes and Attributes"
      ],
      "metadata": {
        "id": "zz2KWgzfx9MX"
      }
    },
    {
      "cell_type": "code",
      "source": [
        "a1 = np.array([1,2,3])\n",
        "a1"
      ],
      "metadata": {
        "id": "O_Fz8NvZxl2E"
      },
      "execution_count": null,
      "outputs": []
    },
    {
      "cell_type": "code",
      "source": [
        "type(a1)"
      ],
      "metadata": {
        "id": "Sdl1K2sCyFpS"
      },
      "execution_count": null,
      "outputs": []
    },
    {
      "cell_type": "code",
      "source": [
        "a2 = np.array([[1,2,3],[1.2,2.2,3]])\n",
        "a3 = np.array([[[1,2,3],[4,5,6],[7,8,9]],\n",
        "              [[10,11,12],[13,14,15],[16,17,18]]])"
      ],
      "metadata": {
        "id": "l84QZgxtyIDB"
      },
      "execution_count": null,
      "outputs": []
    },
    {
      "cell_type": "code",
      "source": [
        "a3"
      ],
      "metadata": {
        "id": "snRo0U9byai0"
      },
      "execution_count": null,
      "outputs": []
    },
    {
      "cell_type": "code",
      "source": [
        "a3.shape # 2 layers, 3 arrays, 3 elements in array\n",
        "# 2 -> [[],[]] 3 -> [[],[],[]] 3 -> [x,y,z]"
      ],
      "metadata": {
        "id": "eFcW7KPgyfDc"
      },
      "execution_count": null,
      "outputs": []
    },
    {
      "cell_type": "code",
      "source": [
        "a2.shape"
      ],
      "metadata": {
        "id": "I6EQYB_cyinj"
      },
      "execution_count": null,
      "outputs": []
    },
    {
      "cell_type": "code",
      "source": [
        "a1.ndim, a2.ndim, a3.ndim"
      ],
      "metadata": {
        "id": "F68n5VqqzGFf"
      },
      "execution_count": null,
      "outputs": []
    },
    {
      "cell_type": "code",
      "source": [
        "a1.size, a2.size, a3.size"
      ],
      "metadata": {
        "id": "yLZq5xMkzMzy"
      },
      "execution_count": null,
      "outputs": []
    },
    {
      "cell_type": "code",
      "source": [
        "# Create a df from np\n",
        "import pandas as pd\n",
        "df = pd.DataFrame(a2)\n",
        "df"
      ],
      "metadata": {
        "id": "w9VYMEJuzm_7"
      },
      "execution_count": null,
      "outputs": []
    },
    {
      "cell_type": "code",
      "source": [
        "df1 = pd.DataFrame(a3[1])\n",
        "df1\n",
        "# df must be 2-d input"
      ],
      "metadata": {
        "id": "v2aajVrfz4MS"
      },
      "execution_count": null,
      "outputs": []
    },
    {
      "cell_type": "markdown",
      "source": [
        "## Creating arrays"
      ],
      "metadata": {
        "id": "RbhxfMvQ0Xb1"
      }
    },
    {
      "cell_type": "code",
      "source": [
        "sample_array = np.array([1,2,3])\n",
        "sample_array"
      ],
      "metadata": {
        "id": "kHUIV7Ff0Zyh"
      },
      "execution_count": null,
      "outputs": []
    },
    {
      "cell_type": "code",
      "source": [
        "sample_array.dtype"
      ],
      "metadata": {
        "id": "EPAMYwsr0cSa"
      },
      "execution_count": null,
      "outputs": []
    },
    {
      "cell_type": "code",
      "source": [
        "ones = np.ones((2,3))\n",
        "ones # shape, dtype, order"
      ],
      "metadata": {
        "id": "tDoJv1VJ0ddJ"
      },
      "execution_count": null,
      "outputs": []
    },
    {
      "cell_type": "code",
      "source": [
        "ones.dtype"
      ],
      "metadata": {
        "id": "OkEPsj200yhz"
      },
      "execution_count": null,
      "outputs": []
    },
    {
      "cell_type": "code",
      "source": [
        "zeros = np.zeros((2,3))\n",
        "zeros"
      ],
      "metadata": {
        "id": "gcq-G53H01r9"
      },
      "execution_count": null,
      "outputs": []
    },
    {
      "cell_type": "code",
      "source": [
        "range_array = np.arange(0,10,2) # start, stop, step\n",
        "range_array"
      ],
      "metadata": {
        "id": "Ivc1W55B06Lh"
      },
      "execution_count": null,
      "outputs": []
    },
    {
      "cell_type": "code",
      "source": [
        "random_array = np.random.randint(0,10, size=(3,5)) # low, high, size = None, dtype = '1'\n",
        "random_array, random_array.size # 3* 5"
      ],
      "metadata": {
        "id": "jqC5IybP1IKK"
      },
      "execution_count": null,
      "outputs": []
    },
    {
      "cell_type": "code",
      "source": [
        "random_array_2 = np.random.random((5,3))\n",
        "random_array_2"
      ],
      "metadata": {
        "id": "YgnFrlDB1fBY"
      },
      "execution_count": null,
      "outputs": []
    },
    {
      "cell_type": "code",
      "source": [
        "random_array_3 = np.random.rand(5,3)\n",
        "random_array_3"
      ],
      "metadata": {
        "id": "QpmTz0r01_7C"
      },
      "execution_count": null,
      "outputs": []
    },
    {
      "cell_type": "code",
      "source": [
        "# Pseudo-random numbers\n",
        "np.random.seed(seed = 1) # generate random numbers which are reproduceble (random but not changing every run)\n",
        "random_array_4 = np.random.randint(10, size=(5,3)) # size == shape\n",
        "random_array_4\n"
      ],
      "metadata": {
        "id": "DjaW6gXk2F8W"
      },
      "execution_count": null,
      "outputs": []
    },
    {
      "cell_type": "markdown",
      "source": [
        "## Viewing Arrays and Matrices"
      ],
      "metadata": {
        "id": "Y89YYYry3tyW"
      }
    },
    {
      "cell_type": "code",
      "source": [
        "np.unique(random_array_4)"
      ],
      "metadata": {
        "id": "TXKPmIXA3yI9"
      },
      "execution_count": null,
      "outputs": []
    },
    {
      "cell_type": "code",
      "source": [
        "a1"
      ],
      "metadata": {
        "id": "IvbNsOss4ElD"
      },
      "execution_count": null,
      "outputs": []
    },
    {
      "cell_type": "code",
      "source": [
        "a2"
      ],
      "metadata": {
        "id": "rDLMavTZ4PLJ"
      },
      "execution_count": null,
      "outputs": []
    },
    {
      "cell_type": "code",
      "source": [
        "a3"
      ],
      "metadata": {
        "id": "EG-MWzaf4Pkt"
      },
      "execution_count": null,
      "outputs": []
    },
    {
      "cell_type": "code",
      "source": [
        "a3[:2, :2, :2] # slicing -> first 2 values"
      ],
      "metadata": {
        "id": "3WhRlNUR4Ra5"
      },
      "execution_count": null,
      "outputs": []
    },
    {
      "cell_type": "code",
      "source": [
        "a4 = np.random.randint(10, size = (2,3,4,5)) # 2 layers with 3 layers with 4 rows with 5 elements\n",
        "a4"
      ],
      "metadata": {
        "id": "YCHHuXoZ4vsB"
      },
      "execution_count": null,
      "outputs": []
    },
    {
      "cell_type": "code",
      "source": [
        "a4.shape, a4.ndim"
      ],
      "metadata": {
        "id": "rS53TmJ04-jj"
      },
      "execution_count": null,
      "outputs": []
    },
    {
      "cell_type": "code",
      "source": [
        "# Get the first number in the most inner\n",
        "a4[:,:,:,:1]"
      ],
      "metadata": {
        "id": "cuGtB6H95FkY"
      },
      "execution_count": null,
      "outputs": []
    },
    {
      "cell_type": "markdown",
      "source": [
        "## Manipulating & comparing arrays"
      ],
      "metadata": {
        "id": "dUJo0FNa5tqT"
      }
    },
    {
      "cell_type": "code",
      "source": [
        "# Basic math op\n",
        "a1"
      ],
      "metadata": {
        "id": "qrui_cjI5f7o"
      },
      "execution_count": null,
      "outputs": []
    },
    {
      "cell_type": "code",
      "source": [
        "ones = np.ones(3)\n",
        "ones"
      ],
      "metadata": {
        "id": "wJqBLPPQ54Nh"
      },
      "execution_count": null,
      "outputs": []
    },
    {
      "cell_type": "code",
      "source": [
        "a1 + ones"
      ],
      "metadata": {
        "id": "YDEgBD7f57Tm"
      },
      "execution_count": null,
      "outputs": []
    },
    {
      "cell_type": "code",
      "source": [
        "a1 - ones"
      ],
      "metadata": {
        "id": "zmpyCwMk58ZB"
      },
      "execution_count": null,
      "outputs": []
    },
    {
      "cell_type": "code",
      "source": [
        "a1 * ones"
      ],
      "metadata": {
        "id": "fpgaKraN6CRN"
      },
      "execution_count": null,
      "outputs": []
    },
    {
      "cell_type": "code",
      "source": [
        "a2"
      ],
      "metadata": {
        "id": "ftA2oKmy6edM"
      },
      "execution_count": null,
      "outputs": []
    },
    {
      "cell_type": "code",
      "source": [
        "a1 * a2 # multiply each row in a2 with a1 -> broadcasting"
      ],
      "metadata": {
        "id": "PBOKMV6H6f_o"
      },
      "execution_count": null,
      "outputs": []
    },
    {
      "cell_type": "code",
      "source": [
        "#a2 * a3 # operands could not be broadcast together with shapes (2,3) (2,3,3)\n",
        "a2 * a3[:,:2]"
      ],
      "metadata": {
        "id": "z_QKtckv6iCW"
      },
      "execution_count": null,
      "outputs": []
    },
    {
      "cell_type": "code",
      "source": [
        "a3"
      ],
      "metadata": {
        "id": "kBp_ebUy6w85"
      },
      "execution_count": null,
      "outputs": []
    },
    {
      "cell_type": "code",
      "source": [
        "a2"
      ],
      "metadata": {
        "id": "Y0qJUYzu7i_L"
      },
      "execution_count": null,
      "outputs": []
    },
    {
      "cell_type": "code",
      "source": [
        "a2 / a1"
      ],
      "metadata": {
        "id": "auB5ASop7qgy"
      },
      "execution_count": null,
      "outputs": []
    },
    {
      "cell_type": "markdown",
      "source": [
        "## Aggregation"
      ],
      "metadata": {
        "id": "YLNrdMPD847n"
      }
    },
    {
      "cell_type": "code",
      "source": [
        "list_list = [1,2,3]\n",
        "sum(list_list)"
      ],
      "metadata": {
        "id": "GcAR7sSe75aJ"
      },
      "execution_count": null,
      "outputs": []
    },
    {
      "cell_type": "code",
      "source": [
        "sum(a1)"
      ],
      "metadata": {
        "id": "ds4B0SxC-6Hn"
      },
      "execution_count": null,
      "outputs": []
    },
    {
      "cell_type": "code",
      "source": [
        "np.sum(a1)"
      ],
      "metadata": {
        "id": "_HU8QYEr-7NL"
      },
      "execution_count": null,
      "outputs": []
    },
    {
      "cell_type": "code",
      "source": [
        "massive_array = np.random.random(100000)\n",
        "%timeit sum(massive_array)\n",
        "%timeit np.sum(massive_array)"
      ],
      "metadata": {
        "id": "ShV2rrBu--FA"
      },
      "execution_count": null,
      "outputs": []
    },
    {
      "cell_type": "code",
      "source": [
        "np.mean(a2)"
      ],
      "metadata": {
        "id": "o1aIm8RW_b2Q"
      },
      "execution_count": null,
      "outputs": []
    },
    {
      "cell_type": "code",
      "source": [
        "np.max(a2)"
      ],
      "metadata": {
        "id": "qwAKXGLD_1SX"
      },
      "execution_count": null,
      "outputs": []
    },
    {
      "cell_type": "code",
      "source": [
        "np.min(a2)"
      ],
      "metadata": {
        "id": "hNFd4O5K_5RH"
      },
      "execution_count": null,
      "outputs": []
    },
    {
      "cell_type": "code",
      "source": [
        "np.std(a2) # how spread out is a group of number from the mean"
      ],
      "metadata": {
        "id": "p2taXZFp_6nx"
      },
      "execution_count": null,
      "outputs": []
    },
    {
      "cell_type": "code",
      "source": [
        "np.var(a2) # Variance - avg degree to each number is diff to the mean, lowe variance = lower range of number"
      ],
      "metadata": {
        "id": "KziM-xTT_8mz"
      },
      "execution_count": null,
      "outputs": []
    },
    {
      "cell_type": "code",
      "source": [
        "np.sqrt(np.var(a2)) # standard deviation"
      ],
      "metadata": {
        "id": "88-mj76t_-df"
      },
      "execution_count": null,
      "outputs": []
    },
    {
      "cell_type": "code",
      "source": [
        "high_var_array = np.array([1,100,200,300,4000,5000])\n",
        "low_var_array = np.array([2,4,6,8,10])"
      ],
      "metadata": {
        "id": "G9k9g63xAVAJ"
      },
      "execution_count": null,
      "outputs": []
    },
    {
      "cell_type": "code",
      "source": [
        "np.var(high_var_array), np.var(low_var_array)"
      ],
      "metadata": {
        "id": "Ykw5KPpjA0P0"
      },
      "execution_count": null,
      "outputs": []
    },
    {
      "cell_type": "code",
      "source": [
        "np.std(high_var_array), np.std(low_var_array)"
      ],
      "metadata": {
        "id": "Xe1AdDnBA3io"
      },
      "execution_count": null,
      "outputs": []
    },
    {
      "cell_type": "code",
      "source": [
        "np.mean(high_var_array), np.mean(low_var_array)"
      ],
      "metadata": {
        "id": "EPX2ma2TBAW1"
      },
      "execution_count": null,
      "outputs": []
    },
    {
      "cell_type": "code",
      "source": [
        "%matplotlib inline\n",
        "import matplotlib.pyplot as plt\n",
        "plt.hist(high_var_array)\n",
        "plt.show()"
      ],
      "metadata": {
        "id": "BJTJQ3znBIdT"
      },
      "execution_count": null,
      "outputs": []
    },
    {
      "cell_type": "code",
      "source": [
        "plt.hist(low_var_array)\n",
        "plt.show()"
      ],
      "metadata": {
        "id": "G16Wf9AWBZaE"
      },
      "execution_count": null,
      "outputs": []
    },
    {
      "cell_type": "markdown",
      "source": [
        "## Reshape and transpose"
      ],
      "metadata": {
        "id": "61oJnpZmB2cA"
      }
    },
    {
      "cell_type": "code",
      "source": [
        "#a2 * a3 # operands could not be broadcast together with shapes (2,3) (2,3,3)\n",
        "a2.reshape(2,3,1).shape"
      ],
      "metadata": {
        "id": "tPdF6O42Bd1_"
      },
      "execution_count": null,
      "outputs": []
    },
    {
      "cell_type": "code",
      "source": [
        "a2.reshape(2,3,1) * a3"
      ],
      "metadata": {
        "id": "8JSNuhRUCUWO"
      },
      "execution_count": null,
      "outputs": []
    },
    {
      "cell_type": "code",
      "source": [
        "a3"
      ],
      "metadata": {
        "id": "UzyvenE_B9Ms"
      },
      "execution_count": null,
      "outputs": []
    },
    {
      "cell_type": "code",
      "source": [
        "a2.reshape(2,3,1)"
      ],
      "metadata": {
        "id": "v3FHBts6ChgM"
      },
      "execution_count": null,
      "outputs": []
    },
    {
      "cell_type": "code",
      "source": [
        "a2"
      ],
      "metadata": {
        "id": "BvA4hEGKCZIe"
      },
      "execution_count": null,
      "outputs": []
    },
    {
      "cell_type": "code",
      "source": [
        "# Transpose\n",
        "a2.T"
      ],
      "metadata": {
        "id": "Div2J55RCj_S"
      },
      "execution_count": null,
      "outputs": []
    },
    {
      "cell_type": "code",
      "source": [
        "a2"
      ],
      "metadata": {
        "id": "m6okZ6rHEji2"
      },
      "execution_count": null,
      "outputs": []
    },
    {
      "cell_type": "markdown",
      "source": [
        "## Dot product example - Nut Butter sales"
      ],
      "metadata": {
        "id": "tyESUzEA1gCI"
      }
    },
    {
      "cell_type": "code",
      "source": [
        "np.random.seed(0)\n",
        "sales_amounts = np.random.randint(20, size=(5,3))\n",
        "sales_amounts"
      ],
      "metadata": {
        "id": "bMdqpMR-2ix2"
      },
      "execution_count": null,
      "outputs": []
    },
    {
      "cell_type": "code",
      "source": [
        "weekly_sales = pd.DataFrame(sales_amounts, index=[\"Mon\", \"Tues\", \"Wed\", \"Thurs\", \"Fri\"], columns=[\"Almond Butter\", \"Peanut Butter\", \"Cashew Butter\"])\n",
        "weekly_sales"
      ],
      "metadata": {
        "id": "9GbtM-1w3JI9"
      },
      "execution_count": null,
      "outputs": []
    },
    {
      "cell_type": "code",
      "source": [
        "np.random.seed(7)\n",
        "prices = np.random.randint(15, size=(1,3))\n",
        "prices"
      ],
      "metadata": {
        "id": "jTk2tNix2uO4"
      },
      "execution_count": null,
      "outputs": []
    },
    {
      "cell_type": "code",
      "source": [
        "butter_prices = pd.DataFrame(prices, index = [\"price\"], columns=[\"Almond\",\"Peanut\",\"Cashew\"])\n",
        "butter_prices"
      ],
      "metadata": {
        "id": "A4Q6JWPf3vq8"
      },
      "execution_count": null,
      "outputs": []
    },
    {
      "cell_type": "code",
      "source": [
        "total_sales = prices * sales_amounts\n",
        "total_sales"
      ],
      "metadata": {
        "id": "DVBeBYHf4HCT"
      },
      "execution_count": null,
      "outputs": []
    },
    {
      "cell_type": "code",
      "source": [
        "faster_total = prices.dot(sales_amounts.T)\n",
        "faster_total"
      ],
      "metadata": {
        "id": "k9ca_7kg4vvL"
      },
      "execution_count": null,
      "outputs": []
    },
    {
      "cell_type": "code",
      "source": [
        "weekly_sales[\"Total\"] = faster_total.T\n",
        "weekly_sales"
      ],
      "metadata": {
        "id": "3pIrhRo85BW4"
      },
      "execution_count": null,
      "outputs": []
    },
    {
      "cell_type": "markdown",
      "source": [
        "## My monthly sales"
      ],
      "metadata": {
        "id": "tp7A3s8OOOC8"
      }
    },
    {
      "cell_type": "code",
      "source": [
        "np.random.seed(10)\n",
        "np_monthly_sales = np.random.randint(20,size=(12,3)) # 12 months and 3 products\n",
        "montly_sales = pd.DataFrame(np_monthly_sales, index=[\"Jan\",\"Feb\",\"Mar\",\"Apr\",\"May\",\"Jun\",\"Jul\",\"Aug\",\"Sep\",\"Oct\",\"Nov\",\"Dec\"], columns=[\"Pancakes\", \"Ice Cream\", \"Cheese Cake\"])\n",
        "montly_sales"
      ],
      "metadata": {
        "id": "fjmUt4m6NzR3"
      },
      "execution_count": null,
      "outputs": []
    },
    {
      "cell_type": "code",
      "source": [
        "np.random.seed(10)\n",
        "np_prices = np.random.randint(10,size=(1,3)) # One price, and 3 products\n",
        "prices = pd.DataFrame(np_prices, index=[\"Prices\"], columns=[\"Pancakes\", \"Ice Cream\", \"Cheese Cake\"])\n",
        "prices"
      ],
      "metadata": {
        "id": "C53st7QBPlFd"
      },
      "execution_count": null,
      "outputs": []
    },
    {
      "cell_type": "code",
      "source": [
        "np_monthly_sales.shape, np_prices.shape"
      ],
      "metadata": {
        "id": "9oQvgrhnQAVv"
      },
      "execution_count": null,
      "outputs": []
    },
    {
      "cell_type": "code",
      "source": [
        "total_sales = np_prices.dot(np_monthly_sales.T)\n",
        "total_sales"
      ],
      "metadata": {
        "id": "vC-8XabRQHyF"
      },
      "execution_count": null,
      "outputs": []
    },
    {
      "cell_type": "code",
      "source": [
        "df_total_sales = pd.DataFrame(total_sales.T, index=[\"Jan\",\"Feb\",\"Mar\",\"Apr\",\"May\",\"Jun\",\"Jul\",\"Aug\",\"Sep\",\"Oct\",\"Nov\",\"Dec\"], columns=[\"Total\"])\n",
        "df_total_sales"
      ],
      "metadata": {
        "id": "xi0SkUG5RpOl"
      },
      "execution_count": null,
      "outputs": []
    },
    {
      "cell_type": "code",
      "source": [
        "montly_sales[\"Total\"] = df_total_sales\n",
        "montly_sales"
      ],
      "metadata": {
        "id": "NwbEcxTzSTY_"
      },
      "execution_count": null,
      "outputs": []
    },
    {
      "cell_type": "code",
      "source": [
        "best_month = montly_sales.loc[montly_sales[\"Total\"] == montly_sales[\"Total\"].max()]\n",
        "best_month"
      ],
      "metadata": {
        "id": "7e1bi9rLSbl7"
      },
      "execution_count": null,
      "outputs": []
    },
    {
      "cell_type": "markdown",
      "source": [
        "## Comparison Operators"
      ],
      "metadata": {
        "id": "zvCInhh4TvBS"
      }
    },
    {
      "cell_type": "code",
      "source": [
        "a1"
      ],
      "metadata": {
        "id": "Nd51f3zcSfU7"
      },
      "execution_count": null,
      "outputs": []
    },
    {
      "cell_type": "code",
      "source": [
        "a2"
      ],
      "metadata": {
        "id": "mWeTymhjTmS0"
      },
      "execution_count": null,
      "outputs": []
    },
    {
      "cell_type": "code",
      "source": [
        "a1>a2"
      ],
      "metadata": {
        "id": "QoFFMu5bTnSW"
      },
      "execution_count": null,
      "outputs": []
    },
    {
      "cell_type": "code",
      "source": [
        "bool_array = a1 >= a2\n",
        "bool_array"
      ],
      "metadata": {
        "id": "YV70WsNaTpEZ"
      },
      "execution_count": null,
      "outputs": []
    },
    {
      "cell_type": "markdown",
      "source": [
        "## Sorting"
      ],
      "metadata": {
        "id": "GRj8xwggUq7b"
      }
    },
    {
      "cell_type": "code",
      "source": [
        "np.random.seed(1)\n",
        "my_arrays = np.random.randint(20, size=(3,5))\n",
        "my_arrays"
      ],
      "metadata": {
        "id": "gEp-uDsHT4qR"
      },
      "execution_count": null,
      "outputs": []
    },
    {
      "cell_type": "code",
      "source": [
        "np.sort(my_arrays)"
      ],
      "metadata": {
        "id": "XO2_czEPVIp3"
      },
      "execution_count": null,
      "outputs": []
    },
    {
      "cell_type": "code",
      "source": [
        "np.random.seed(1)\n",
        "my_arrays = np.random.randint(20, size=(3,5))\n",
        "my_arrays"
      ],
      "metadata": {
        "id": "drQrC9d3VKpA"
      },
      "execution_count": null,
      "outputs": []
    },
    {
      "cell_type": "code",
      "source": [
        "np.argsort(my_arrays) # sort by index"
      ],
      "metadata": {
        "id": "yeq3_ABaVkZo"
      },
      "execution_count": null,
      "outputs": []
    },
    {
      "cell_type": "code",
      "source": [
        "np.argmin(my_arrays, axis=0) # based on columns"
      ],
      "metadata": {
        "id": "XGorjR68VrU4"
      },
      "execution_count": null,
      "outputs": []
    },
    {
      "cell_type": "code",
      "source": [
        "np.argmin(my_arrays, axis=1) # based on rows"
      ],
      "metadata": {
        "id": "4LaOsfXcWyac"
      },
      "execution_count": null,
      "outputs": []
    },
    {
      "cell_type": "markdown",
      "source": [
        "## Practical example"
      ],
      "metadata": {
        "id": "gkguBGChXxOk"
      }
    },
    {
      "cell_type": "code",
      "source": [
        "from os import mkdir\n",
        "import requests\n",
        "\n",
        "url = \"https://raw.githubusercontent.com/Carinaaa/ML-Learning-Path/refs/heads/intro-numpy/2S7A9167.jpg\"\n",
        "response = requests.get(url)\n",
        "\n",
        "if response.status_code == 200:\n",
        "  try:\n",
        "    mkdir(\"data\")\n",
        "    print(\"Data folder created.\")\n",
        "  except FileExistsError:\n",
        "    print(\"Data folder already there... proceeding in creating the file.\")\n",
        "\n",
        "  with open(\"data/picture.jpg\", \"wb\") as f:\n",
        "    f.write(response.content)\n",
        "    f.close()\n",
        "    print(\"File written.\")\n",
        "else:\n",
        "  print(\"Error downloading the file...\")"
      ],
      "metadata": {
        "id": "uCa2eG7mXz8D"
      },
      "execution_count": null,
      "outputs": []
    },
    {
      "cell_type": "code",
      "source": [
        "# Turn an image into a NumPy array\n",
        "from matplotlib.image import imread\n",
        "\n",
        "carina = imread(\"data/picture.jpg\")\n",
        "print(type(carina))"
      ],
      "metadata": {
        "id": "f7-2Exzmbc6j"
      },
      "execution_count": null,
      "outputs": []
    },
    {
      "cell_type": "code",
      "source": [
        "carina.size, carina.shape, carina.ndim"
      ],
      "metadata": {
        "id": "cDSgOmjhbh1d"
      },
      "execution_count": null,
      "outputs": []
    },
    {
      "cell_type": "code",
      "source": [],
      "metadata": {
        "id": "sJ1Nww10cEvE"
      },
      "execution_count": null,
      "outputs": []
    }
  ]
}