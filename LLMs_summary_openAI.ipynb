{
  "nbformat": 4,
  "nbformat_minor": 0,
  "metadata": {
    "colab": {
      "provenance": [],
      "authorship_tag": "ABX9TyPhpchje7VCs2zOxfYEXtyr",
      "include_colab_link": true
    },
    "kernelspec": {
      "name": "python3",
      "display_name": "Python 3"
    },
    "language_info": {
      "name": "python"
    }
  },
  "cells": [
    {
      "cell_type": "markdown",
      "metadata": {
        "id": "view-in-github",
        "colab_type": "text"
      },
      "source": [
        "<a href=\"https://colab.research.google.com/github/Carinaaa/ML-Learning-Path/blob/intro-LLM/LLMs_summary_openAI.ipynb\" target=\"_parent\"><img src=\"https://colab.research.google.com/assets/colab-badge.svg\" alt=\"Open In Colab\"/></a>"
      ]
    },
    {
      "cell_type": "markdown",
      "source": [
        "https://platform.openai.com/api-keys\n",
        "https://stackoverflow.com/questions/66631333/how-do-i-set-environment-variables-in-google-colab"
      ],
      "metadata": {
        "id": "4iAleHCr8IfS"
      }
    },
    {
      "cell_type": "markdown",
      "source": [
        "https://github.com/ed-donner/llm_engineering\n"
      ],
      "metadata": {
        "id": "9JwlynzIOtlp"
      }
    },
    {
      "cell_type": "code",
      "execution_count": null,
      "metadata": {
        "id": "wVnxQHQkw3dK"
      },
      "outputs": [],
      "source": [
        "import os\n",
        "import requests\n",
        "from dotenv import load_dotenv\n",
        "from bs4 import BeautifulSoup\n",
        "from IPython.display import Markdown, display\n",
        "from openai import OpenAI\n"
      ]
    },
    {
      "cell_type": "code",
      "source": [
        "from google.colab import userdata\n",
        "import os\n",
        "# load_dotenv() # load the .env file if you have it, i don't and I use secrets from GC\n",
        "openai_key = userdata.get('OPENAI_API_KEY') # get the secret by the name\n",
        "os.environ['OPENAI_API_KEY'] = openai_key # set it as an env var\n",
        "openai = OpenAI() # create model using the env var"
      ],
      "metadata": {
        "id": "VLKqQYuf5Soj"
      },
      "execution_count": null,
      "outputs": []
    },
    {
      "cell_type": "code",
      "source": [
        "message = \"Hello, GPT! This is my first ever message to you! Hi!\"\n",
        "\n",
        "response = openai.chat.completions.create(model=\"gpt-4o-mini\", messages=[{\"role\":\"user\", \"content\":message}])\n",
        "\n",
        "print(response.choices[0].message.content)"
      ],
      "metadata": {
        "id": "ya6YJc-I6s3T"
      },
      "execution_count": null,
      "outputs": []
    },
    {
      "cell_type": "code",
      "source": [
        "headers = {\n",
        " \"User-Agent\": \"Mozilla/5.0 (Windows NT 10.0; Win64; x64) AppleWebKit/537.36 (KHTML, like Gecko) Chrome/117.0.0.0 Safari/537.36\"\n",
        "}\n",
        "\n",
        "class Website:\n",
        "\n",
        "    def __init__(self, url):\n",
        "        \"\"\"\n",
        "        Create this Website object from the given url using the BeautifulSoup library\n",
        "        \"\"\"\n",
        "        self.url = url\n",
        "        response = requests.get(url, headers=headers)\n",
        "        soup = BeautifulSoup(response.content, 'html.parser')\n",
        "        self.title = soup.title.string if soup.title else \"No title found\"\n",
        "        for irrelevant in soup.body([\"script\", \"style\", \"img\", \"input\"]):\n",
        "            irrelevant.decompose()\n",
        "        self.text = soup.body.get_text(separator=\"\\n\", strip=True)"
      ],
      "metadata": {
        "id": "RMrJbZNRWXhP"
      },
      "execution_count": null,
      "outputs": []
    },
    {
      "cell_type": "code",
      "source": [
        "History_of_Christianity_wiki = Website(\"https://en.wikipedia.org/wiki/History_of_Christianity\")\n",
        "print(History_of_Christianity_wiki.title)\n",
        "print(History_of_Christianity_wiki.text)"
      ],
      "metadata": {
        "id": "s4FJHzlOWpbO"
      },
      "execution_count": null,
      "outputs": []
    },
    {
      "cell_type": "markdown",
      "source": [
        "## Types of prompts\n",
        "\n",
        "**A system prompt** that tells them what task they are performing and what tone they should use\n",
        "\n",
        "**A user prompt** -- the conversation starter that they should reply to"
      ],
      "metadata": {
        "id": "pRZ-jKT0W7g4"
      }
    },
    {
      "cell_type": "code",
      "source": [
        "# Define our system prompt\n",
        "\n",
        "system_prompt = \"You are an assistant that analyzes the contents of a website \\\n",
        "and provides a short summary, ignoring text that might be navigation related. \\\n",
        "Respond in markdown.\""
      ],
      "metadata": {
        "id": "G4thwLDrYlEH"
      },
      "execution_count": null,
      "outputs": []
    },
    {
      "cell_type": "code",
      "source": [
        "# A function that writes a User Prompt that asks for summaries of websites:\n",
        "\n",
        "def user_prompt_for(website):\n",
        "    user_prompt = f\"You are looking at a website titled {website.title}\"\n",
        "    user_prompt += \"\\nThe contents of this website is as follows; \\\n",
        "please provide a short summary of this website in markdown. \\\n",
        "If it includes news or announcements, then summarize these too.\\n\\n\"\n",
        "    user_prompt += website.text\n",
        "    return user_prompt"
      ],
      "metadata": {
        "id": "WF9mT4cJYsfW"
      },
      "execution_count": null,
      "outputs": []
    },
    {
      "cell_type": "code",
      "source": [
        "print(user_prompt_for(History_of_Christianity_wiki))"
      ],
      "metadata": {
        "id": "_WLX4XxBYz58"
      },
      "execution_count": null,
      "outputs": []
    },
    {
      "cell_type": "code",
      "source": [
        "messages = [\n",
        "    {\"role\": \"system\", \"content\": \"You are a snarky assistant\"},\n",
        "    {\"role\": \"user\", \"content\": \"What is 2 + 2?\"}\n",
        "]\n",
        "response = openai.chat.completions.create(model=\"gpt-4o-mini\", messages=messages)\n",
        "print(response.choices[0].message.content)"
      ],
      "metadata": {
        "id": "IUYYi0IGZG0B"
      },
      "execution_count": null,
      "outputs": []
    },
    {
      "cell_type": "code",
      "source": [
        "# And now let's build useful messages for GPT-4o-mini, using a function\n",
        "\n",
        "def messages_for(website):\n",
        "    return [\n",
        "        {\"role\": \"system\", \"content\": system_prompt},\n",
        "        {\"role\": \"user\", \"content\": user_prompt_for(website)}\n",
        "    ]"
      ],
      "metadata": {
        "id": "KZB5OEuaZUaY"
      },
      "execution_count": null,
      "outputs": []
    },
    {
      "cell_type": "code",
      "source": [
        "print(messages_for(History_of_Christianity_wiki))"
      ],
      "metadata": {
        "id": "eWvF7gTUZa4n"
      },
      "execution_count": null,
      "outputs": []
    },
    {
      "cell_type": "code",
      "source": [
        "# Time to bring it together: call the OpenAI API.\n",
        "\n",
        "def summarize(url):\n",
        "    website = Website(url)\n",
        "    response = openai.chat.completions.create(\n",
        "        model = \"gpt-4o-mini\",\n",
        "        messages = messages_for(website)\n",
        "    )\n",
        "    return response.choices[0].message.content"
      ],
      "metadata": {
        "id": "v62nozU7Zzda"
      },
      "execution_count": null,
      "outputs": []
    },
    {
      "cell_type": "code",
      "source": [
        "print(summarize(\"https://en.wikipedia.org/wiki/History_of_Christianity\"))"
      ],
      "metadata": {
        "id": "Sssunmr-Z9IB"
      },
      "execution_count": null,
      "outputs": []
    },
    {
      "cell_type": "code",
      "source": [
        "# A function to display this nicely in the Jupyter output, using markdown\n",
        "\n",
        "def display_summary(url):\n",
        "    summary = summarize(url)\n",
        "    display(Markdown(summary))"
      ],
      "metadata": {
        "id": "gF1O05pDaTN5"
      },
      "execution_count": null,
      "outputs": []
    },
    {
      "cell_type": "code",
      "source": [
        "display_summary(\"https://en.wikipedia.org/wiki/History_of_Christianity\")"
      ],
      "metadata": {
        "id": "GwXkKpEraXDn"
      },
      "execution_count": null,
      "outputs": []
    }
  ]
}