{
  "nbformat": 4,
  "nbformat_minor": 0,
  "metadata": {
    "colab": {
      "provenance": [],
      "authorship_tag": "ABX9TyNf7pQX1Oaip2+DlFStJ5qM",
      "include_colab_link": true
    },
    "kernelspec": {
      "name": "python3",
      "display_name": "Python 3"
    },
    "language_info": {
      "name": "python"
    }
  },
  "cells": [
    {
      "cell_type": "markdown",
      "metadata": {
        "id": "view-in-github",
        "colab_type": "text"
      },
      "source": [
        "<a href=\"https://colab.research.google.com/github/Carinaaa/ML-Learning-Path/blob/intro-LLM/OpenAI_for_compare_output_with_Ollama.ipynb\" target=\"_parent\"><img src=\"https://colab.research.google.com/assets/colab-badge.svg\" alt=\"Open In Colab\"/></a>"
      ]
    },
    {
      "cell_type": "markdown",
      "source": [
        "https://github.com/ed-donner/llm_engineering\n"
      ],
      "metadata": {
        "id": "9JwlynzIOtlp"
      }
    },
    {
      "cell_type": "code",
      "execution_count": 2,
      "metadata": {
        "id": "wVnxQHQkw3dK"
      },
      "outputs": [],
      "source": [
        "import os\n",
        "import requests\n",
        "from dotenv import load_dotenv\n",
        "from bs4 import BeautifulSoup\n",
        "from IPython.display import Markdown, display\n",
        "from openai import OpenAI\n",
        "from google.colab import userdata\n",
        "import os\n"
      ]
    },
    {
      "cell_type": "code",
      "source": [
        "openai_key = userdata.get('OPENAI_API_KEY') # get the secret by the name\n",
        "os.environ['OPENAI_API_KEY'] = openai_key # set it as an env var\n",
        "openai = OpenAI() # create model using the env var"
      ],
      "metadata": {
        "id": "VLKqQYuf5Soj"
      },
      "execution_count": 3,
      "outputs": []
    },
    {
      "cell_type": "code",
      "source": [
        "headers = {\n",
        " \"User-Agent\": \"Mozilla/5.0 (Windows NT 10.0; Win64; x64) AppleWebKit/537.36 (KHTML, like Gecko) Chrome/117.0.0.0 Safari/537.36\"\n",
        "}\n",
        "\n",
        "class Website:\n",
        "    def __init__(self, url):\n",
        "        \"\"\"\n",
        "        Create this Website object from the given url using the BeautifulSoup library\n",
        "        \"\"\"\n",
        "        self.url = url\n",
        "        response = requests.get(url, headers=headers)\n",
        "        soup = BeautifulSoup(response.content, 'html.parser')\n",
        "        self.title = soup.title.string if soup.title else \"No title found\"\n",
        "        for irrelevant in soup.body([\"script\", \"style\", \"img\", \"input\"]):\n",
        "            irrelevant.decompose()\n",
        "        self.text = soup.body.get_text(separator=\"\\n\", strip=True)"
      ],
      "metadata": {
        "id": "RMrJbZNRWXhP"
      },
      "execution_count": 4,
      "outputs": []
    },
    {
      "cell_type": "code",
      "source": [
        "wiki_flat_coated_retriever = Website(\"https://en.wikipedia.org/wiki/Flat-coated_Retriever\")"
      ],
      "metadata": {
        "id": "s4FJHzlOWpbO"
      },
      "execution_count": 5,
      "outputs": []
    },
    {
      "cell_type": "code",
      "source": [
        "# Define our system prompt\n",
        "\n",
        "system_prompt = \"You are an assistant that analyzes the contents of a website \\\n",
        "and provides a short summary, ignoring text that might be navigation related. \\\n",
        "Respond in markdown.\""
      ],
      "metadata": {
        "id": "G4thwLDrYlEH"
      },
      "execution_count": 6,
      "outputs": []
    },
    {
      "cell_type": "code",
      "source": [
        "# A function that writes a User Prompt that asks for summaries of websites:\n",
        "\n",
        "def user_prompt_for(website):\n",
        "    user_prompt = f\"You are looking at a website titled {website.title}\"\n",
        "    user_prompt += \"\\nThe contents of this website is as follows; \\\n",
        "please provide a short summary of this website in markdown. \\\n",
        "If it includes news or announcements, then summarize these too.\\n\\n\"\n",
        "    user_prompt += website.text\n",
        "    return user_prompt"
      ],
      "metadata": {
        "id": "WF9mT4cJYsfW"
      },
      "execution_count": 7,
      "outputs": []
    },
    {
      "cell_type": "code",
      "source": [
        "# And now let's build useful messages for GPT-4o-mini, using a function\n",
        "\n",
        "def messages_for(website):\n",
        "    return [\n",
        "        {\"role\": \"system\", \"content\": system_prompt},\n",
        "        {\"role\": \"user\", \"content\": user_prompt_for(website)}\n",
        "    ]"
      ],
      "metadata": {
        "id": "KZB5OEuaZUaY"
      },
      "execution_count": 8,
      "outputs": []
    },
    {
      "cell_type": "code",
      "source": [
        "# Time to bring it together: call the OpenAI API.\n",
        "\n",
        "def summarize(url):\n",
        "    website = Website(url)\n",
        "    response = openai.chat.completions.create(\n",
        "        model = \"gpt-4o-mini\",\n",
        "        messages = messages_for(website)\n",
        "    )\n",
        "    return response.choices[0].message.content"
      ],
      "metadata": {
        "id": "v62nozU7Zzda"
      },
      "execution_count": 9,
      "outputs": []
    },
    {
      "cell_type": "code",
      "source": [
        "# A function to display this nicely in the Jupyter output, using markdown\n",
        "\n",
        "def display_summary(url):\n",
        "    summary = summarize(url)\n",
        "    display(Markdown(summary))"
      ],
      "metadata": {
        "id": "gF1O05pDaTN5"
      },
      "execution_count": 10,
      "outputs": []
    },
    {
      "cell_type": "code",
      "source": [
        "display_summary(\"https://en.wikipedia.org/wiki/Flat-coated_Retriever\")"
      ],
      "metadata": {
        "id": "GwXkKpEraXDn",
        "colab": {
          "base_uri": "https://localhost:8080/",
          "height": 504
        },
        "outputId": "d62deeb0-fa11-4786-dbf1-b7f07dde8e9b"
      },
      "execution_count": 11,
      "outputs": [
        {
          "output_type": "display_data",
          "data": {
            "text/plain": [
              "<IPython.core.display.Markdown object>"
            ],
            "text/markdown": "# Summary of the Flat-coated Retriever Wikipedia Page\n\nThe **Flat-coated Retriever** is a dog breed that originated in England, developed as a gun dog for retrieving both on land and in water. It is known for its friendly and playful temperament, often described as the \"Peter Pan\" of retrievers due to its youthful disposition.\n\n## Description\n- **Appearance**: \n  - Males stand 23-25 inches tall and weigh 60-80 lbs; females are slightly smaller.\n  - The breed has a unique head shape, muscular jaws, and a glossy coat available in black and liver colors (yellow is disqualified in conformation shows).\n  \n- **Temperament**: \n  - Friendly, intelligent, and energetic, making them excellent companions and working dogs.\n  - They can serve as drug-sniffers and are used in breeding programs for guide dogs.\n\n## History\nThe breed gained popularity in the mid-19th century, partly due to its ancestry linked to St. John's water dog and Newfoundlands. It faced a decline in numbers post-World War II but has made a comeback since the 1960s, noted for conformation showing and as companion animals.\n\nNotable achievements for the breed include wins at **Crufts**, with a highlighted victory for a Flat-coated Retriever named Jet in 2011 and another in 2022.\n\n## Health\nRecent studies show a life expectancy of approximately 11.7 years for Flat-coated Retrievers. Common health concerns include a high incidence of cancer-related deaths.\n\nFor further details, one can refer to the respective sections on appearance, temperament, history, and health within the article."
          },
          "metadata": {}
        }
      ]
    }
  ]
}