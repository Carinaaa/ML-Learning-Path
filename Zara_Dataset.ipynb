{
  "nbformat": 4,
  "nbformat_minor": 0,
  "metadata": {
    "colab": {
      "provenance": [],
      "authorship_tag": "ABX9TyNyWq3j4uTqLqbrRpFCBqJJ",
      "include_colab_link": true
    },
    "kernelspec": {
      "name": "python3",
      "display_name": "Python 3"
    },
    "language_info": {
      "name": "python"
    }
  },
  "cells": [
    {
      "cell_type": "markdown",
      "metadata": {
        "id": "view-in-github",
        "colab_type": "text"
      },
      "source": [
        "<a href=\"https://colab.research.google.com/github/Carinaaa/ML-Learning-Path/blob/main/Zara_Dataset.ipynb\" target=\"_parent\"><img src=\"https://colab.research.google.com/assets/colab-badge.svg\" alt=\"Open In Colab\"/></a>"
      ]
    },
    {
      "cell_type": "code",
      "execution_count": null,
      "metadata": {
        "id": "HWzwfPEKsunv"
      },
      "outputs": [],
      "source": [
        "import kagglehub\n",
        "\n",
        "# Download latest version\n",
        "path = kagglehub.dataset_download(\"michaelhakim/zara-sales-analysis\")\n",
        "\n",
        "print(\"Path to dataset files:\", path)"
      ]
    },
    {
      "cell_type": "code",
      "source": [
        "import pandas as pd\n",
        "\n",
        "zara_sales = pd.read_csv(path + \"/Zara_Sales_Analysis.csv\",delimiter=\";\")\n",
        "zara_sales.head(10)"
      ],
      "metadata": {
        "id": "zerWFeQsty4K"
      },
      "execution_count": null,
      "outputs": []
    },
    {
      "cell_type": "code",
      "source": [
        "zara_sales.info()"
      ],
      "metadata": {
        "id": "M2FokgkmZh5t"
      },
      "execution_count": null,
      "outputs": []
    },
    {
      "cell_type": "code",
      "source": [
        "zara_sales.dropna(inplace=True)\n",
        "zara_sales.info()"
      ],
      "metadata": {
        "id": "kBYKqLzlZeDi"
      },
      "execution_count": null,
      "outputs": []
    },
    {
      "cell_type": "code",
      "source": [
        "%matplotlib inline\n",
        "import matplotlib.pyplot as plt\n",
        "\n",
        "zara_sales['price'].plot()"
      ],
      "metadata": {
        "id": "7l2rLolEvXZx"
      },
      "execution_count": null,
      "outputs": []
    },
    {
      "cell_type": "code",
      "source": [
        "import pandas as pd\n",
        "import numpy as np\n",
        "\n",
        "x = np.array(zara_sales['Sales Volume'])\n",
        "y = np.array(zara_sales['price'])\n",
        "\n",
        "plt.scatter(x, y)"
      ],
      "metadata": {
        "id": "782VR3NaUQho"
      },
      "execution_count": null,
      "outputs": []
    },
    {
      "cell_type": "code",
      "source": [
        "type_product_position = zara_sales['Product Position'].unique()\n",
        "pp_dictonary = {type_product_position[value]:value for value in range(len(type_product_position))}\n",
        "pp_numerical = zara_sales[\"Product Position\"].map(pp_dictonary)\n",
        "\n",
        "type_section = zara_sales['section'].unique()\n",
        "s_dictonary = {type_section[value]:value for value in range(len(type_section))}\n",
        "s_numerical = zara_sales[\"section\"].map(s_dictonary)\n",
        "\n",
        "pp_dictonary, s_dictonary"
      ],
      "metadata": {
        "id": "uAr9W6PcakJl"
      },
      "execution_count": null,
      "outputs": []
    },
    {
      "cell_type": "code",
      "source": [
        "plt.style.use('ggplot')\n",
        "fig, ax = plt.subplots(nrows = 2, ncols = 1, figsize=(10,10))\n",
        "\n",
        "\n",
        "# Check how the sales are impacted by position\n",
        "scatter = ax[0].scatter(y = zara_sales['Sales Volume'],\n",
        "                x = zara_sales['price'],\n",
        "                c = pp_numerical)\n",
        "\n",
        "ax[0].set(title = 'Sales Volume',\n",
        "            ylabel = \"Sales Volume\",\n",
        "            xlabel = \"Price\");\n",
        "\n",
        "ax[0].legend(*scatter.legend_elements())\n",
        "\n",
        "ax[0].axhline(y = zara_sales[zara_sales['Product Position'] == 'Aisle']['Sales Volume'].mean(),\n",
        "              color = 'purple',\n",
        "              linestyle = '--')\n",
        "\n",
        "ax[0].axhline(y = zara_sales[zara_sales['Product Position'] == 'End-cap']['Sales Volume'].mean(),\n",
        "              color = 'green',\n",
        "              linestyle = '--')\n",
        "\n",
        "ax[0].axhline(y = zara_sales[zara_sales['Product Position'] == 'Front of Store']['Sales Volume'].mean(),\n",
        "              color = 'yellow',\n",
        "              linestyle = '--')\n",
        "ax[0].axvline(x = zara_sales[zara_sales['Product Position'] == 'Aisle']['price'].mean(),\n",
        "              color = 'purple',\n",
        "              linestyle = '--')\n",
        "\n",
        "ax[0].axvline(x = zara_sales[zara_sales['Product Position'] == 'End-cap']['price'].mean(),\n",
        "              color = 'green',\n",
        "              linestyle = '--')\n",
        "\n",
        "ax[0].axvline(x = zara_sales[zara_sales['Product Position'] == 'Front of Store']['price'].mean(),\n",
        "              color = 'yellow',\n",
        "              linestyle = '--')\n",
        "\n",
        "\n",
        "# Check how the sales based on section\n",
        "scatter = ax[1].scatter(y = zara_sales['Sales Volume'],\n",
        "                x = zara_sales['price'],\n",
        "                c = s_numerical)\n",
        "\n",
        "ax[1].set(title = 'Sales Volume',\n",
        "            ylabel = \"Sales Volume\",\n",
        "            xlabel = \"Price\");\n",
        "\n",
        "ax[1].legend(*scatter.legend_elements())\n",
        "\n"
      ],
      "metadata": {
        "id": "PrTmRkTHUZfX"
      },
      "execution_count": null,
      "outputs": []
    },
    {
      "cell_type": "code",
      "source": [
        "plt.style.available"
      ],
      "metadata": {
        "id": "8jU36vwdlTZz"
      },
      "execution_count": null,
      "outputs": []
    },
    {
      "cell_type": "code",
      "source": [
        "fig, ax = plt.subplots(nrows = 2, ncols = 1, figsize=(10,10))\n",
        "\n",
        "bar = ax[0].bar(zara_sales['Product Position'], zara_sales['Sales Volume'], color = 'black', width = 0.1)\n",
        "ax[0].set(title = 'Sales Volume based on position',\n",
        "            ylabel = \"Sales Volume\",\n",
        "            xlabel = \"Product Position\");\n",
        "\n",
        "\n",
        "bar = ax[1].bar(zara_sales['section'], zara_sales['Sales Volume'], color = 'blue', width = 0.1)\n",
        "ax[1].set(title = 'Sales Volume based on section',\n",
        "            ylabel = \"Sales Volume\",\n",
        "            xlabel = \"Section\");"
      ],
      "metadata": {
        "id": "cKtyyEicVN-g"
      },
      "execution_count": null,
      "outputs": []
    },
    {
      "cell_type": "code",
      "source": [
        "zara_sales.head()"
      ],
      "metadata": {
        "id": "lz2vCDnEkhcM"
      },
      "execution_count": null,
      "outputs": []
    },
    {
      "cell_type": "code",
      "source": [
        "# Group by year and compute averages for pollutants.\n",
        "years = zara_sales[\"scraped_at\"].str[:4].unique()\n",
        "months = zara_sales[\"scraped_at\"].str[5:7].unique()\n",
        "\n",
        "section_prices = zara_sales.groupby([\"section\"])[\"price\"].agg(['mean','max','min'])\n",
        "section_volumes = zara_sales.groupby([\"section\"])[\"Sales Volume\"].agg(['mean','max','min'])\n",
        "years, months, section_prices, section_volumes"
      ],
      "metadata": {
        "id": "TVPdy6C4n_Pd"
      },
      "execution_count": null,
      "outputs": []
    },
    {
      "cell_type": "code",
      "source": [
        "term_price_sum = zara_sales.groupby('terms')['price'].sum()\n",
        "display(term_price_sum)\n"
      ],
      "metadata": {
        "id": "saP0R6H5oegU"
      },
      "execution_count": null,
      "outputs": []
    },
    {
      "cell_type": "code",
      "metadata": {
        "id": "b6cb6331"
      },
      "source": [
        "category_price_sum = zara_sales.groupby('Product Category')['price'].sum()\n",
        "display(category_price_sum)"
      ],
      "execution_count": null,
      "outputs": []
    }
  ]
}