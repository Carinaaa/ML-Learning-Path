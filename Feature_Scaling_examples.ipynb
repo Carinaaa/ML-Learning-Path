{
  "nbformat": 4,
  "nbformat_minor": 0,
  "metadata": {
    "colab": {
      "provenance": [],
      "authorship_tag": "ABX9TyMhMtOVJgAlG2UH4abV8tvv",
      "include_colab_link": true
    },
    "kernelspec": {
      "name": "python3",
      "display_name": "Python 3"
    },
    "language_info": {
      "name": "python"
    }
  },
  "cells": [
    {
      "cell_type": "markdown",
      "metadata": {
        "id": "view-in-github",
        "colab_type": "text"
      },
      "source": [
        "<a href=\"https://colab.research.google.com/github/Carinaaa/ML-Learning-Path/blob/intro-sklearn/Feature_Scaling_examples.ipynb\" target=\"_parent\"><img src=\"https://colab.research.google.com/assets/colab-badge.svg\" alt=\"Open In Colab\"/></a>"
      ]
    },
    {
      "cell_type": "markdown",
      "source": [
        "Source: https://rahul-saini.medium.com/feature-scaling-why-it-is-required-8a93df1af310\n"
      ],
      "metadata": {
        "id": "JIbnY6jkKAYf"
      }
    },
    {
      "cell_type": "markdown",
      "source": [
        "Summary:\n",
        "\n",
        "Most of the machine learning algorithms use Euclidean distance between two data points in their computations, this can be a problem because:\n",
        "*   large-valued features such as EstimatedSalary can dominate small-features features such as Age\n",
        "\n",
        "Examples of algorithms that need scaling:\n",
        "\n",
        "*   k-nearest neighbors\n",
        "*   Principal Component Analysis (PCA)\n",
        "*   Speed up in gradient descent\n",
        "\n",
        "Algorithms where scaling does not have a big impact:\n",
        "*   Decision Tree based sunch as AdaBoostRegressor\n",
        "*   Linear Discriminant Alaysis (LDA)\n",
        "*   Naive Bayes"
      ],
      "metadata": {
        "id": "Sr7y0UrKKRIw"
      }
    },
    {
      "cell_type": "code",
      "execution_count": 1,
      "metadata": {
        "id": "PPE1Ig1CJ3Ac"
      },
      "outputs": [],
      "source": [
        "import matplotlib.pyplot as plt\n",
        "import numpy as np\n",
        "import pandas as pd\n",
        "%matplotlib inline"
      ]
    },
    {
      "cell_type": "code",
      "source": [
        "dataset_dict = {\n",
        "    \"UserID\": [1562, 1563, 1564, 1565, 1667],\n",
        "    \"Gender\" : [\"Male\", \"Male\", \"Female\", \"Female\", \"Male\"],\n",
        "    \"Age\": [19, 35, 26, 29, 19],\n",
        "    \"EstimatedSalary\": [19000, 20000, 43000, 57000, 76000],\n",
        "    \"Purchased\" : [0, 0, 0, 0, 0]\n",
        "    }\n",
        "dataset = pd.DataFrame.from_dict(dataset_dict)\n",
        "display(dataset)"
      ],
      "metadata": {
        "colab": {
          "base_uri": "https://localhost:8080/",
          "height": 206
        },
        "id": "LbWXs_99LyDs",
        "outputId": "5d1343d2-fd9f-431b-a591-4a17b17b10ea"
      },
      "execution_count": 2,
      "outputs": [
        {
          "output_type": "display_data",
          "data": {
            "text/plain": [
              "   UserID  Gender  Age  EstimatedSalary  Purchased\n",
              "0    1562    Male   19            19000          0\n",
              "1    1563    Male   35            20000          0\n",
              "2    1564  Female   26            43000          0\n",
              "3    1565  Female   29            57000          0\n",
              "4    1667    Male   19            76000          0"
            ],
            "text/html": [
              "\n",
              "  <div id=\"df-ac0e1f6f-3039-42bf-8811-036f72a0bfd7\" class=\"colab-df-container\">\n",
              "    <div>\n",
              "<style scoped>\n",
              "    .dataframe tbody tr th:only-of-type {\n",
              "        vertical-align: middle;\n",
              "    }\n",
              "\n",
              "    .dataframe tbody tr th {\n",
              "        vertical-align: top;\n",
              "    }\n",
              "\n",
              "    .dataframe thead th {\n",
              "        text-align: right;\n",
              "    }\n",
              "</style>\n",
              "<table border=\"1\" class=\"dataframe\">\n",
              "  <thead>\n",
              "    <tr style=\"text-align: right;\">\n",
              "      <th></th>\n",
              "      <th>UserID</th>\n",
              "      <th>Gender</th>\n",
              "      <th>Age</th>\n",
              "      <th>EstimatedSalary</th>\n",
              "      <th>Purchased</th>\n",
              "    </tr>\n",
              "  </thead>\n",
              "  <tbody>\n",
              "    <tr>\n",
              "      <th>0</th>\n",
              "      <td>1562</td>\n",
              "      <td>Male</td>\n",
              "      <td>19</td>\n",
              "      <td>19000</td>\n",
              "      <td>0</td>\n",
              "    </tr>\n",
              "    <tr>\n",
              "      <th>1</th>\n",
              "      <td>1563</td>\n",
              "      <td>Male</td>\n",
              "      <td>35</td>\n",
              "      <td>20000</td>\n",
              "      <td>0</td>\n",
              "    </tr>\n",
              "    <tr>\n",
              "      <th>2</th>\n",
              "      <td>1564</td>\n",
              "      <td>Female</td>\n",
              "      <td>26</td>\n",
              "      <td>43000</td>\n",
              "      <td>0</td>\n",
              "    </tr>\n",
              "    <tr>\n",
              "      <th>3</th>\n",
              "      <td>1565</td>\n",
              "      <td>Female</td>\n",
              "      <td>29</td>\n",
              "      <td>57000</td>\n",
              "      <td>0</td>\n",
              "    </tr>\n",
              "    <tr>\n",
              "      <th>4</th>\n",
              "      <td>1667</td>\n",
              "      <td>Male</td>\n",
              "      <td>19</td>\n",
              "      <td>76000</td>\n",
              "      <td>0</td>\n",
              "    </tr>\n",
              "  </tbody>\n",
              "</table>\n",
              "</div>\n",
              "    <div class=\"colab-df-buttons\">\n",
              "\n",
              "  <div class=\"colab-df-container\">\n",
              "    <button class=\"colab-df-convert\" onclick=\"convertToInteractive('df-ac0e1f6f-3039-42bf-8811-036f72a0bfd7')\"\n",
              "            title=\"Convert this dataframe to an interactive table.\"\n",
              "            style=\"display:none;\">\n",
              "\n",
              "  <svg xmlns=\"http://www.w3.org/2000/svg\" height=\"24px\" viewBox=\"0 -960 960 960\">\n",
              "    <path d=\"M120-120v-720h720v720H120Zm60-500h600v-160H180v160Zm220 220h160v-160H400v160Zm0 220h160v-160H400v160ZM180-400h160v-160H180v160Zm440 0h160v-160H620v160ZM180-180h160v-160H180v160Zm440 0h160v-160H620v160Z\"/>\n",
              "  </svg>\n",
              "    </button>\n",
              "\n",
              "  <style>\n",
              "    .colab-df-container {\n",
              "      display:flex;\n",
              "      gap: 12px;\n",
              "    }\n",
              "\n",
              "    .colab-df-convert {\n",
              "      background-color: #E8F0FE;\n",
              "      border: none;\n",
              "      border-radius: 50%;\n",
              "      cursor: pointer;\n",
              "      display: none;\n",
              "      fill: #1967D2;\n",
              "      height: 32px;\n",
              "      padding: 0 0 0 0;\n",
              "      width: 32px;\n",
              "    }\n",
              "\n",
              "    .colab-df-convert:hover {\n",
              "      background-color: #E2EBFA;\n",
              "      box-shadow: 0px 1px 2px rgba(60, 64, 67, 0.3), 0px 1px 3px 1px rgba(60, 64, 67, 0.15);\n",
              "      fill: #174EA6;\n",
              "    }\n",
              "\n",
              "    .colab-df-buttons div {\n",
              "      margin-bottom: 4px;\n",
              "    }\n",
              "\n",
              "    [theme=dark] .colab-df-convert {\n",
              "      background-color: #3B4455;\n",
              "      fill: #D2E3FC;\n",
              "    }\n",
              "\n",
              "    [theme=dark] .colab-df-convert:hover {\n",
              "      background-color: #434B5C;\n",
              "      box-shadow: 0px 1px 3px 1px rgba(0, 0, 0, 0.15);\n",
              "      filter: drop-shadow(0px 1px 2px rgba(0, 0, 0, 0.3));\n",
              "      fill: #FFFFFF;\n",
              "    }\n",
              "  </style>\n",
              "\n",
              "    <script>\n",
              "      const buttonEl =\n",
              "        document.querySelector('#df-ac0e1f6f-3039-42bf-8811-036f72a0bfd7 button.colab-df-convert');\n",
              "      buttonEl.style.display =\n",
              "        google.colab.kernel.accessAllowed ? 'block' : 'none';\n",
              "\n",
              "      async function convertToInteractive(key) {\n",
              "        const element = document.querySelector('#df-ac0e1f6f-3039-42bf-8811-036f72a0bfd7');\n",
              "        const dataTable =\n",
              "          await google.colab.kernel.invokeFunction('convertToInteractive',\n",
              "                                                    [key], {});\n",
              "        if (!dataTable) return;\n",
              "\n",
              "        const docLinkHtml = 'Like what you see? Visit the ' +\n",
              "          '<a target=\"_blank\" href=https://colab.research.google.com/notebooks/data_table.ipynb>data table notebook</a>'\n",
              "          + ' to learn more about interactive tables.';\n",
              "        element.innerHTML = '';\n",
              "        dataTable['output_type'] = 'display_data';\n",
              "        await google.colab.output.renderOutput(dataTable, element);\n",
              "        const docLink = document.createElement('div');\n",
              "        docLink.innerHTML = docLinkHtml;\n",
              "        element.appendChild(docLink);\n",
              "      }\n",
              "    </script>\n",
              "  </div>\n",
              "\n",
              "\n",
              "    <div id=\"df-a13c5dd3-7069-4bdf-9bb7-0f631b821f43\">\n",
              "      <button class=\"colab-df-quickchart\" onclick=\"quickchart('df-a13c5dd3-7069-4bdf-9bb7-0f631b821f43')\"\n",
              "                title=\"Suggest charts\"\n",
              "                style=\"display:none;\">\n",
              "\n",
              "<svg xmlns=\"http://www.w3.org/2000/svg\" height=\"24px\"viewBox=\"0 0 24 24\"\n",
              "     width=\"24px\">\n",
              "    <g>\n",
              "        <path d=\"M19 3H5c-1.1 0-2 .9-2 2v14c0 1.1.9 2 2 2h14c1.1 0 2-.9 2-2V5c0-1.1-.9-2-2-2zM9 17H7v-7h2v7zm4 0h-2V7h2v10zm4 0h-2v-4h2v4z\"/>\n",
              "    </g>\n",
              "</svg>\n",
              "      </button>\n",
              "\n",
              "<style>\n",
              "  .colab-df-quickchart {\n",
              "      --bg-color: #E8F0FE;\n",
              "      --fill-color: #1967D2;\n",
              "      --hover-bg-color: #E2EBFA;\n",
              "      --hover-fill-color: #174EA6;\n",
              "      --disabled-fill-color: #AAA;\n",
              "      --disabled-bg-color: #DDD;\n",
              "  }\n",
              "\n",
              "  [theme=dark] .colab-df-quickchart {\n",
              "      --bg-color: #3B4455;\n",
              "      --fill-color: #D2E3FC;\n",
              "      --hover-bg-color: #434B5C;\n",
              "      --hover-fill-color: #FFFFFF;\n",
              "      --disabled-bg-color: #3B4455;\n",
              "      --disabled-fill-color: #666;\n",
              "  }\n",
              "\n",
              "  .colab-df-quickchart {\n",
              "    background-color: var(--bg-color);\n",
              "    border: none;\n",
              "    border-radius: 50%;\n",
              "    cursor: pointer;\n",
              "    display: none;\n",
              "    fill: var(--fill-color);\n",
              "    height: 32px;\n",
              "    padding: 0;\n",
              "    width: 32px;\n",
              "  }\n",
              "\n",
              "  .colab-df-quickchart:hover {\n",
              "    background-color: var(--hover-bg-color);\n",
              "    box-shadow: 0 1px 2px rgba(60, 64, 67, 0.3), 0 1px 3px 1px rgba(60, 64, 67, 0.15);\n",
              "    fill: var(--button-hover-fill-color);\n",
              "  }\n",
              "\n",
              "  .colab-df-quickchart-complete:disabled,\n",
              "  .colab-df-quickchart-complete:disabled:hover {\n",
              "    background-color: var(--disabled-bg-color);\n",
              "    fill: var(--disabled-fill-color);\n",
              "    box-shadow: none;\n",
              "  }\n",
              "\n",
              "  .colab-df-spinner {\n",
              "    border: 2px solid var(--fill-color);\n",
              "    border-color: transparent;\n",
              "    border-bottom-color: var(--fill-color);\n",
              "    animation:\n",
              "      spin 1s steps(1) infinite;\n",
              "  }\n",
              "\n",
              "  @keyframes spin {\n",
              "    0% {\n",
              "      border-color: transparent;\n",
              "      border-bottom-color: var(--fill-color);\n",
              "      border-left-color: var(--fill-color);\n",
              "    }\n",
              "    20% {\n",
              "      border-color: transparent;\n",
              "      border-left-color: var(--fill-color);\n",
              "      border-top-color: var(--fill-color);\n",
              "    }\n",
              "    30% {\n",
              "      border-color: transparent;\n",
              "      border-left-color: var(--fill-color);\n",
              "      border-top-color: var(--fill-color);\n",
              "      border-right-color: var(--fill-color);\n",
              "    }\n",
              "    40% {\n",
              "      border-color: transparent;\n",
              "      border-right-color: var(--fill-color);\n",
              "      border-top-color: var(--fill-color);\n",
              "    }\n",
              "    60% {\n",
              "      border-color: transparent;\n",
              "      border-right-color: var(--fill-color);\n",
              "    }\n",
              "    80% {\n",
              "      border-color: transparent;\n",
              "      border-right-color: var(--fill-color);\n",
              "      border-bottom-color: var(--fill-color);\n",
              "    }\n",
              "    90% {\n",
              "      border-color: transparent;\n",
              "      border-bottom-color: var(--fill-color);\n",
              "    }\n",
              "  }\n",
              "</style>\n",
              "\n",
              "      <script>\n",
              "        async function quickchart(key) {\n",
              "          const quickchartButtonEl =\n",
              "            document.querySelector('#' + key + ' button');\n",
              "          quickchartButtonEl.disabled = true;  // To prevent multiple clicks.\n",
              "          quickchartButtonEl.classList.add('colab-df-spinner');\n",
              "          try {\n",
              "            const charts = await google.colab.kernel.invokeFunction(\n",
              "                'suggestCharts', [key], {});\n",
              "          } catch (error) {\n",
              "            console.error('Error during call to suggestCharts:', error);\n",
              "          }\n",
              "          quickchartButtonEl.classList.remove('colab-df-spinner');\n",
              "          quickchartButtonEl.classList.add('colab-df-quickchart-complete');\n",
              "        }\n",
              "        (() => {\n",
              "          let quickchartButtonEl =\n",
              "            document.querySelector('#df-a13c5dd3-7069-4bdf-9bb7-0f631b821f43 button');\n",
              "          quickchartButtonEl.style.display =\n",
              "            google.colab.kernel.accessAllowed ? 'block' : 'none';\n",
              "        })();\n",
              "      </script>\n",
              "    </div>\n",
              "\n",
              "  <div id=\"id_ed3c8515-22b9-46ac-8429-0bbc9cf95c00\">\n",
              "    <style>\n",
              "      .colab-df-generate {\n",
              "        background-color: #E8F0FE;\n",
              "        border: none;\n",
              "        border-radius: 50%;\n",
              "        cursor: pointer;\n",
              "        display: none;\n",
              "        fill: #1967D2;\n",
              "        height: 32px;\n",
              "        padding: 0 0 0 0;\n",
              "        width: 32px;\n",
              "      }\n",
              "\n",
              "      .colab-df-generate:hover {\n",
              "        background-color: #E2EBFA;\n",
              "        box-shadow: 0px 1px 2px rgba(60, 64, 67, 0.3), 0px 1px 3px 1px rgba(60, 64, 67, 0.15);\n",
              "        fill: #174EA6;\n",
              "      }\n",
              "\n",
              "      [theme=dark] .colab-df-generate {\n",
              "        background-color: #3B4455;\n",
              "        fill: #D2E3FC;\n",
              "      }\n",
              "\n",
              "      [theme=dark] .colab-df-generate:hover {\n",
              "        background-color: #434B5C;\n",
              "        box-shadow: 0px 1px 3px 1px rgba(0, 0, 0, 0.15);\n",
              "        filter: drop-shadow(0px 1px 2px rgba(0, 0, 0, 0.3));\n",
              "        fill: #FFFFFF;\n",
              "      }\n",
              "    </style>\n",
              "    <button class=\"colab-df-generate\" onclick=\"generateWithVariable('dataset')\"\n",
              "            title=\"Generate code using this dataframe.\"\n",
              "            style=\"display:none;\">\n",
              "\n",
              "  <svg xmlns=\"http://www.w3.org/2000/svg\" height=\"24px\"viewBox=\"0 0 24 24\"\n",
              "       width=\"24px\">\n",
              "    <path d=\"M7,19H8.4L18.45,9,17,7.55,7,17.6ZM5,21V16.75L18.45,3.32a2,2,0,0,1,2.83,0l1.4,1.43a1.91,1.91,0,0,1,.58,1.4,1.91,1.91,0,0,1-.58,1.4L9.25,21ZM18.45,9,17,7.55Zm-12,3A5.31,5.31,0,0,0,4.9,8.1,5.31,5.31,0,0,0,1,6.5,5.31,5.31,0,0,0,4.9,4.9,5.31,5.31,0,0,0,6.5,1,5.31,5.31,0,0,0,8.1,4.9,5.31,5.31,0,0,0,12,6.5,5.46,5.46,0,0,0,6.5,12Z\"/>\n",
              "  </svg>\n",
              "    </button>\n",
              "    <script>\n",
              "      (() => {\n",
              "      const buttonEl =\n",
              "        document.querySelector('#id_ed3c8515-22b9-46ac-8429-0bbc9cf95c00 button.colab-df-generate');\n",
              "      buttonEl.style.display =\n",
              "        google.colab.kernel.accessAllowed ? 'block' : 'none';\n",
              "\n",
              "      buttonEl.onclick = () => {\n",
              "        google.colab.notebook.generateWithVariable('dataset');\n",
              "      }\n",
              "      })();\n",
              "    </script>\n",
              "  </div>\n",
              "\n",
              "    </div>\n",
              "  </div>\n"
            ],
            "application/vnd.google.colaboratory.intrinsic+json": {
              "type": "dataframe",
              "variable_name": "dataset",
              "summary": "{\n  \"name\": \"dataset\",\n  \"rows\": 5,\n  \"fields\": [\n    {\n      \"column\": \"UserID\",\n      \"properties\": {\n        \"dtype\": \"number\",\n        \"std\": 46,\n        \"min\": 1562,\n        \"max\": 1667,\n        \"num_unique_values\": 5,\n        \"samples\": [\n          1563,\n          1667,\n          1564\n        ],\n        \"semantic_type\": \"\",\n        \"description\": \"\"\n      }\n    },\n    {\n      \"column\": \"Gender\",\n      \"properties\": {\n        \"dtype\": \"category\",\n        \"num_unique_values\": 2,\n        \"samples\": [\n          \"Female\",\n          \"Male\"\n        ],\n        \"semantic_type\": \"\",\n        \"description\": \"\"\n      }\n    },\n    {\n      \"column\": \"Age\",\n      \"properties\": {\n        \"dtype\": \"number\",\n        \"std\": 6,\n        \"min\": 19,\n        \"max\": 35,\n        \"num_unique_values\": 4,\n        \"samples\": [\n          35,\n          29\n        ],\n        \"semantic_type\": \"\",\n        \"description\": \"\"\n      }\n    },\n    {\n      \"column\": \"EstimatedSalary\",\n      \"properties\": {\n        \"dtype\": \"number\",\n        \"std\": 24443,\n        \"min\": 19000,\n        \"max\": 76000,\n        \"num_unique_values\": 5,\n        \"samples\": [\n          20000,\n          76000\n        ],\n        \"semantic_type\": \"\",\n        \"description\": \"\"\n      }\n    },\n    {\n      \"column\": \"Purchased\",\n      \"properties\": {\n        \"dtype\": \"number\",\n        \"std\": 0,\n        \"min\": 0,\n        \"max\": 0,\n        \"num_unique_values\": 1,\n        \"samples\": [\n          0\n        ],\n        \"semantic_type\": \"\",\n        \"description\": \"\"\n      }\n    }\n  ]\n}"
            }
          },
          "metadata": {}
        }
      ]
    },
    {
      "cell_type": "code",
      "source": [
        "from sklearn.model_selection import train_test_split\n",
        "# Matrix of all independent variables\n",
        "X = dataset.iloc[:,2:4].values # all rows, only columns 2 and 3, transform to numpy array\n",
        "\n",
        "# Matrix of all the depended variables\n",
        "Y = dataset.iloc[:,-1:].values\n",
        "\n",
        "# Split train and test\n",
        "X_train, X_test, Y_train, Y_test = train_test_split(X, Y, test_size=0.25)"
      ],
      "metadata": {
        "id": "pklp6TC5L3S6"
      },
      "execution_count": 12,
      "outputs": []
    },
    {
      "cell_type": "markdown",
      "source": [
        "## Normalization\n",
        "\n",
        "Usually is done through rescaling values to a fixed range, such as [0,1].\n",
        "\n",
        "Formula (Min-Max Normalization):\n",
        "\n",
        "**x' = (x - xmin) / (xmax - xmin)** where,\n",
        "\n",
        "*   x - *original values*\n",
        "\n",
        "*   xmin, xmax - *minumin and maximum of the feature*\n",
        "\n",
        "*   x' - *normalized values (always between 0 and 1)*\n",
        "\n",
        "The observations can be described as a normal distribution (Gaussian distribution or bell curve)."
      ],
      "metadata": {
        "id": "TnrjVRrEnyLw"
      }
    },
    {
      "cell_type": "code",
      "source": [
        "import seaborn as sns\n",
        "from sklearn.preprocessing import MinMaxScaler\n",
        "\n",
        "# set seed for reproductibility\n",
        "np.random.seed(42)\n",
        "\n",
        "# generate 1000 data points randomly drawn from an exponential distribution\n",
        "original_data = np.random.exponential(size=1000)\n",
        "\n",
        "# min-max scale the data between 0 and 1\n",
        "scaled_data = MinMaxScaler(feature_range=(0,1)).fit_transform(original_data.reshape(-1,1))\n",
        "\n",
        "# plot both to compare\n",
        "fig, ax = plt.subplots(1,2)\n",
        "\n",
        "sns.histplot(original_data, ax=ax[0], color='y', kde=True)\n",
        "ax[0].set_title(\"Original Data\")\n",
        "\n",
        "sns.histplot(scaled_data, ax=ax[1], kde=True)\n",
        "ax[1].set_title(\"Scaled Data\")\n",
        "\n",
        "plt.show()"
      ],
      "metadata": {
        "colab": {
          "base_uri": "https://localhost:8080/",
          "height": 452
        },
        "id": "8q84W-vjmi4U",
        "outputId": "5ee1f0d2-9002-4aec-92c5-15c7951b327c"
      },
      "execution_count": 18,
      "outputs": [
        {
          "output_type": "display_data",
          "data": {
            "text/plain": [
              "<Figure size 640x480 with 2 Axes>"
            ],
            "image/png": "[encoded data removed]"
          },
          "metadata": {}
        }
      ]
    },
    {
      "cell_type": "markdown",
      "source": [
        "## Mean Normalization\n",
        "\n",
        "Instead of shifting values into [0,1] like min-max normalization, mean normalization centers data around 0.\n",
        "\n",
        "**x' = (x - avg(x)) / (xmax - xmin)**\n",
        "\n",
        "*   Centers data around zero, which can make learning faster.\n",
        "\n",
        "*   Useful in optimization algorithms like Gradient Descent.\n",
        "\n",
        "*   Keeps relative distance between values."
      ],
      "metadata": {
        "id": "i1VGaHvbtutJ"
      }
    },
    {
      "cell_type": "code",
      "source": [
        "from sklearn.preprocessing import Normalizer\n",
        "\n",
        "# Create an instance of Normalizer\n",
        "normalizer = Normalizer()\n",
        "X_train4 = normalizer.fit(X_train).transform(X_train)\n",
        "X_train4"
      ],
      "metadata": {
        "colab": {
          "base_uri": "https://localhost:8080/"
        },
        "id": "kioG-1gEmw-I",
        "outputId": "8e6539c6-3c38-4cf1-dd34-2c89d0ddf6e2"
      },
      "execution_count": 20,
      "outputs": [
        {
          "output_type": "execute_result",
          "data": {
            "text/plain": [
              "array([[6.04651052e-04, 9.99999817e-01],\n",
              "       [9.99999500e-04, 9.99999500e-01],\n",
              "       [2.49999992e-04, 9.99999969e-01]])"
            ]
          },
          "metadata": {},
          "execution_count": 20
        }
      ]
    },
    {
      "cell_type": "code",
      "source": [
        "# for Box-Cox Transformation\n",
        "from scipy import stats\n",
        "\n",
        "# normalize the exponential data with boxcox\n",
        "normalized_data = stats.boxcox(original_data)\n",
        "\n",
        "# plot both together to compare\n",
        "fig, ax=plt.subplots(1,2)\n",
        "\n",
        "sns.histplot(original_data, ax=ax[0], color='y', kde=True)\n",
        "ax[0].set_title(\"Original Data\")\n",
        "\n",
        "sns.histplot(normalized_data[0], ax=ax[1], kde=True)\n",
        "ax[1].set_title(\"Normalized data\")\n",
        "\n",
        "plt.show()"
      ],
      "metadata": {
        "colab": {
          "base_uri": "https://localhost:8080/",
          "height": 452
        },
        "id": "VH2q94iNvBpf",
        "outputId": "347aee7e-bdf3-44bf-b955-5a83cd9ee4e0"
      },
      "execution_count": 22,
      "outputs": [
        {
          "output_type": "display_data",
          "data": {
            "text/plain": [
              "<Figure size 640x480 with 2 Axes>"
            ],
            "image/png": "[encoded data removed]"
          },
          "metadata": {}
        }
      ]
    },
    {
      "cell_type": "markdown",
      "source": [
        "## Standardization (z-score normalization)\n",
        "\n",
        "Transforms the data such that the resulting distribution has a mean of 0 and standard deviation of 1.\n",
        "\n",
        "**x' = (x - mean) / variance**\n",
        "\n",
        "*   Centers data around 0.\n",
        "\n",
        "*   Scales variance to 1.\n",
        "\n",
        "*   No fixed range (values may go beyond [-1, 1])."
      ],
      "metadata": {
        "id": "YQhaLpmywLjA"
      }
    },
    {
      "cell_type": "code",
      "source": [
        "from sklearn.preprocessing import StandardScaler\n",
        "\n",
        "# standardize the data\n",
        "scaler = StandardScaler()\n",
        "X_train1=scaler.fit_transform(X_train)\n",
        "X_train1"
      ],
      "metadata": {
        "colab": {
          "base_uri": "https://localhost:8080/"
        },
        "id": "XEcZKhrOxCvZ",
        "outputId": "29921992-838e-4147-e80d-cd4b7ae743c7"
      },
      "execution_count": 27,
      "outputs": [
        {
          "output_type": "execute_result",
          "data": {
            "text/plain": [
              "array([[ 1.41421356, -0.12838815],\n",
              "       [-0.70710678, -1.15549333],\n",
              "       [-0.70710678,  1.28388148]])"
            ]
          },
          "metadata": {},
          "execution_count": 27
        }
      ]
    },
    {
      "cell_type": "code",
      "source": [
        "# Example\n",
        "# set seed for reproductibility\n",
        "np.random.seed(42)\n",
        "\n",
        "# generate 1000 data points randomly drawn from an exponential distribution\n",
        "original_data = np.random.exponential(size=1000)\n",
        "\n",
        "# standardize the data\n",
        "scaler = StandardScaler()\n",
        "scaled_data = scaler.fit_transform(original_data.reshape(-1, 1))\n",
        "\n",
        "# plot both to compare\n",
        "fig, ax = plt.subplots(1,2)\n",
        "\n",
        "sns.histplot(original_data, ax=ax[0], color='y', kde=True)\n",
        "ax[0].set_title(\"Original Data\")\n",
        "\n",
        "sns.histplot(scaled_data, ax=ax[1], kde=True)\n",
        "ax[1].set_title(\"Standardized Data\")\n",
        "\n",
        "plt.show()"
      ],
      "metadata": {
        "colab": {
          "base_uri": "https://localhost:8080/",
          "height": 452
        },
        "id": "c1E7NwcRxDt1",
        "outputId": "9e3ce2a8-fa0b-4214-c71a-b69cca0cfeec"
      },
      "execution_count": 28,
      "outputs": [
        {
          "output_type": "display_data",
          "data": {
            "text/plain": [
              "<Figure size 640x480 with 2 Axes>"
            ],
            "image/png": "[encoded data removed]"
          },
          "metadata": {}
        }
      ]
    },
    {
      "cell_type": "markdown",
      "source": [
        "## Scaling to unit length (Vector Normalization)\n",
        "\n",
        "This technique rescales a vector (row or feature) so that its Euclidean norm = 1.\n",
        "It’s often used when direction matters more than magnitude, such as in text mining (TF-IDF), cosine similarity, and clustering.\n",
        "\n",
        "**x' = x / ||x||** where,\n",
        "\n",
        "*   ||x|| - norm of vector\n",
        "\n",
        "||x|| = sqrt(x1^2 + x2^2 + ... + xn^2)\n",
        "\n",
        "\n",
        "### Why use it?\n",
        "\n",
        "\n",
        "*   Useful in cosine similarity (text/document comparison).\n",
        "\n",
        "*   Ensures features are compared by direction, not magnitude.\n",
        "\n",
        "*   Prevents large-valued vectors from dominating distance-based algorithms."
      ],
      "metadata": {
        "id": "jZy10Bsy2jR3"
      }
    },
    {
      "cell_type": "code",
      "source": [
        "from math import sqrt\n",
        "x = [3,4]\n",
        "x_norm = sqrt(pow(x[0], 2) + pow(x[1], 2))\n",
        "x_norm"
      ],
      "metadata": {
        "colab": {
          "base_uri": "https://localhost:8080/"
        },
        "id": "M1dU1jQR1zik",
        "outputId": "7595c8c8-1b80-4dd3-f049-9185947b8331"
      },
      "execution_count": 33,
      "outputs": [
        {
          "output_type": "execute_result",
          "data": {
            "text/plain": [
              "5.0"
            ]
          },
          "metadata": {},
          "execution_count": 33
        }
      ]
    },
    {
      "cell_type": "code",
      "source": [
        "x_scaled = np.array(x) / x_norm\n",
        "x_scaled"
      ],
      "metadata": {
        "colab": {
          "base_uri": "https://localhost:8080/"
        },
        "id": "0gouNX-M4Yv0",
        "outputId": "b2290c9e-9485-490f-c5a3-20e06f0392f4"
      },
      "execution_count": 34,
      "outputs": [
        {
          "output_type": "execute_result",
          "data": {
            "text/plain": [
              "array([0.6, 0.8])"
            ]
          },
          "metadata": {},
          "execution_count": 34
        }
      ]
    },
    {
      "cell_type": "code",
      "source": [
        "sqrt(pow(x_scaled[0], 2) + pow(x_scaled[1], 2))"
      ],
      "metadata": {
        "colab": {
          "base_uri": "https://localhost:8080/"
        },
        "id": "LXoP32Vz54Fz",
        "outputId": "0c4aea40-0b71-458d-fda0-c620de5d3383"
      },
      "execution_count": 36,
      "outputs": [
        {
          "output_type": "execute_result",
          "data": {
            "text/plain": [
              "1.0"
            ]
          },
          "metadata": {},
          "execution_count": 36
        }
      ]
    }
  ]
}