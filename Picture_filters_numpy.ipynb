{
  "nbformat": 4,
  "nbformat_minor": 0,
  "metadata": {
    "colab": {
      "provenance": [],
      "authorship_tag": "ABX9TyPEeQ53w18fNQzgs7g+/AkS",
      "include_colab_link": true
    },
    "kernelspec": {
      "name": "python3",
      "display_name": "Python 3"
    },
    "language_info": {
      "name": "python"
    }
  },
  "cells": [
    {
      "cell_type": "markdown",
      "metadata": {
        "id": "view-in-github",
        "colab_type": "text"
      },
      "source": [
        "<a href=\"https://colab.research.google.com/github/Carinaaa/ML-Learning-Path/blob/main/Picture_filters_numpy.ipynb\" target=\"_parent\"><img src=\"https://colab.research.google.com/assets/colab-badge.svg\" alt=\"Open In Colab\"/></a>"
      ]
    },
    {
      "cell_type": "markdown",
      "source": [
        "## Download data\n"
      ],
      "metadata": {
        "id": "wxK5Uz28fEgQ"
      }
    },
    {
      "cell_type": "code",
      "execution_count": null,
      "metadata": {
        "id": "khP35vg4eH2P"
      },
      "outputs": [],
      "source": [
        "from os import mkdir\n",
        "import requests\n",
        "\n",
        "url = \"https://raw.githubusercontent.com/Carinaaa/ML-Learning-Path/refs/heads/intro-numpy/2S7A9167.jpg\"\n",
        "response = requests.get(url)\n",
        "\n",
        "if response.status_code == 200:\n",
        "  try:\n",
        "    mkdir(\"data\")\n",
        "    print(\"Data folder created.\")\n",
        "  except FileExistsError:\n",
        "    print(\"Data folder already there... proceeding in creating the file.\")\n",
        "\n",
        "  with open(\"data/picture.jpg\", \"wb\") as f:\n",
        "    f.write(response.content)\n",
        "    f.close()\n",
        "    print(\"File written.\")\n",
        "else:\n",
        "  print(\"Error downloading the file...\")"
      ]
    },
    {
      "cell_type": "markdown",
      "source": [
        "# Get the picture"
      ],
      "metadata": {
        "id": "Cqlnf-ClsaV3"
      }
    },
    {
      "cell_type": "code",
      "source": [
        "from matplotlib.image import imread\n",
        "\n",
        "carina = imread(\"data/picture.jpg\")\n",
        "print(type(carina))"
      ],
      "metadata": {
        "id": "X8ffOgFGhWq7"
      },
      "execution_count": null,
      "outputs": []
    },
    {
      "cell_type": "code",
      "source": [
        "carina.size, carina.shape, carina.ndim"
      ],
      "metadata": {
        "id": "sh6OqjiIhkIB"
      },
      "execution_count": null,
      "outputs": []
    },
    {
      "cell_type": "code",
      "source": [
        "carina[:2]"
      ],
      "metadata": {
        "id": "1uv0eVUwhcxV"
      },
      "execution_count": null,
      "outputs": []
    },
    {
      "cell_type": "code",
      "source": [
        "import matplotlib.pyplot as plt\n",
        "plt.imshow(carina)"
      ],
      "metadata": {
        "id": "QiaV7phNjROb"
      },
      "execution_count": null,
      "outputs": []
    },
    {
      "cell_type": "markdown",
      "source": [
        "## Apply a gaussian blurr"
      ],
      "metadata": {
        "id": "yUQh_Nb5sfuK"
      }
    },
    {
      "cell_type": "code",
      "source": [
        "from scipy import ndimage\n",
        "# Gaussian Blur\n",
        "blurred = ndimage.gaussian_filter(carina, sigma=2)\n",
        "blurred, plt.imshow(blurred)"
      ],
      "metadata": {
        "id": "ZzO-qIA4hsRz"
      },
      "execution_count": null,
      "outputs": []
    },
    {
      "cell_type": "markdown",
      "source": [
        "## Change the picture to gray scale"
      ],
      "metadata": {
        "id": "cUt22jeXs45d"
      }
    },
    {
      "cell_type": "code",
      "source": [
        "# Display the grayscale image with the 'gray' colormap\n",
        "plt.imshow(gray, cmap='gray')\n",
        "plt.title('Grayscale Image')\n",
        "gray, gray.ndim, plt.show()"
      ],
      "metadata": {
        "id": "NIULGhvLkvBR"
      },
      "execution_count": null,
      "outputs": []
    },
    {
      "cell_type": "markdown",
      "source": [
        "## Apply Sobel Filter\n",
        "\n"
      ],
      "metadata": {
        "id": "nRDdpgwIskgX"
      }
    },
    {
      "cell_type": "code",
      "source": [
        "import cv2\n",
        "import numpy as np\n",
        "\n",
        "if carina.ndim == 3:\n",
        "  gray = cv2.cvtColor(carina, cv2.COLOR_RGB2GRAY)\n",
        "\n",
        "# Sobel edge detection (grayscale only)\n",
        "if gray.ndim == 2:\n",
        "    sobel_x = ndimage.sobel(gray, axis=0)\n",
        "    sobel_y = ndimage.sobel(gray, axis=1)\n",
        "    sobel = np.hypot(sobel_x, sobel_y)\n",
        "\n",
        "# Display the Sobel edges in grayscale\n",
        "plt.imshow(sobel, cmap='gray')\n",
        "plt.title('Sobel Edge Detection')\n",
        "sobel, plt.show()"
      ],
      "metadata": {
        "id": "I-qDeKVnheQe"
      },
      "execution_count": null,
      "outputs": []
    },
    {
      "cell_type": "code",
      "source": [
        "carina[:2], plt.imshow(carina)"
      ],
      "metadata": {
        "id": "asAyO91WoG26"
      },
      "execution_count": null,
      "outputs": []
    },
    {
      "cell_type": "code",
      "source": [
        "carina.shape"
      ],
      "metadata": {
        "id": "8N98-NihoKHS"
      },
      "execution_count": null,
      "outputs": []
    },
    {
      "cell_type": "code",
      "source": [
        "# Create a random array with numbers between 0 and 10 of size (6553, 4369)\n",
        "np.random.seed(0)\n",
        "random_array = np.random.randint(20, size=(6553, 4369, 3))\n",
        "random_array[:2]"
      ],
      "metadata": {
        "id": "HSWOiDQmoNTF"
      },
      "execution_count": null,
      "outputs": []
    },
    {
      "cell_type": "code",
      "source": [
        "random_filer = carina + random_array\n",
        "random_filer = random_filer.astype(np.uint8)\n",
        "plt.imshow(random_filer) # See some pixels changed eg. (1000,0) (2000,2000)"
      ],
      "metadata": {
        "id": "Kh7NVpwKqF3X"
      },
      "execution_count": null,
      "outputs": []
    },
    {
      "cell_type": "code",
      "source": [
        "# Create an array with 1s\n",
        "ones_array = np.ones((6553, 4369, 3))\n",
        "ones_array[:2]"
      ],
      "metadata": {
        "id": "ihsGgPCPp59e"
      },
      "execution_count": null,
      "outputs": []
    },
    {
      "cell_type": "code",
      "source": [
        "ones_filer = carina - 100*ones_array\n",
        "ones_filer[ones_filer < 0] = 0\n",
        "ones_filer[ones_filer == 254] = 255\n",
        "ones_filer = ones_filer.astype(np.uint8)\n",
        "plt.imshow(ones_filer)"
      ],
      "metadata": {
        "id": "A2K-dyXmowNe"
      },
      "execution_count": null,
      "outputs": []
    }
  ]
}